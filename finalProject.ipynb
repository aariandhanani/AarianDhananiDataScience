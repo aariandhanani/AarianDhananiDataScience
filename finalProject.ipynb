{
 "cells": [
  {
   "cell_type": "code",
   "execution_count": 398,
   "metadata": {},
   "outputs": [
    {
     "name": "stdout",
     "output_type": "stream",
     "text": [
      "\u001b[H\u001b[2J"
     ]
    }
   ],
   "source": [
    "#Setting up\n",
    "import pandas as pd\n",
    "import csv, matplotlib.pyplot as plt\n",
    "import os\n",
    "os.system('clear')\n",
    "\n",
    "#Opening the files\n",
    "unemployment = pd.read_csv('unemploymentDataByStates.csv')\n",
    "population = pd.read_csv('populationDataset.csv')\n",
    "gdpData = pd.read_csv('GDPData.csv')"
   ]
  },
  {
   "cell_type": "code",
   "execution_count": 399,
   "metadata": {},
   "outputs": [
    {
     "name": "stderr",
     "output_type": "stream",
     "text": [
      "/var/folders/6t/5n6hzyfd7bxc1pxzzzxd788w0000gn/T/ipykernel_80274/847704015.py:30: FutureWarning: In a future version of pandas all arguments of DataFrame.drop except for the argument 'labels' will be keyword-only\n",
      "  unemployment.drop(unemployment.columns.difference(['State','UER2013','UER2014','UER2015','UER2016','UER2017','UER2018','UER2019']), 1, inplace = True)\n"
     ]
    }
   ],
   "source": [
    "year13 = [col for col in unemployment.columns if '13' in col]\n",
    "unemployment['UER2013'] = unemployment[year13].sum(axis=1)\n",
    "unemployment['UER2013'] = unemployment['UER2013']/12\n",
    "\n",
    "year14 = [col for col in unemployment.columns if '14' in col]\n",
    "unemployment['UER2014'] = unemployment[year14].sum(axis=1)\n",
    "unemployment['UER2014'] = unemployment['UER2014']/12\n",
    "\n",
    "year15 = [col for col in unemployment.columns if '15' in col]\n",
    "unemployment['UER2015'] = unemployment[year15].sum(axis=1)\n",
    "unemployment['UER2015'] = unemployment['UER2015']/12\n",
    "\n",
    "year16 = [col for col in unemployment.columns if '16' in col]\n",
    "unemployment['UER2016'] = unemployment[year16].sum(axis=1)\n",
    "unemployment['UER2016'] = unemployment['UER2016']/12\n",
    "\n",
    "year17 = [col for col in unemployment.columns if '17' in col]\n",
    "unemployment['UER2017'] = unemployment[year17].sum(axis=1)\n",
    "unemployment['UER2017'] = unemployment['UER2017']/12\n",
    "\n",
    "year18 = [col for col in unemployment.columns if '18' in col]\n",
    "unemployment['UER2018'] = unemployment[year18].sum(axis=1)\n",
    "unemployment['UER2018'] = unemployment['UER2018']/12\n",
    "\n",
    "year19 = [col for col in unemployment.columns if '19' in col]\n",
    "unemployment['UER2019'] = unemployment[year19].sum(axis=1)\n",
    "unemployment['UER2019'] = unemployment['UER2019']/12\n",
    "\n",
    "unemployment.reset_index(inplace = True, drop = False)\n",
    "unemployment.drop(unemployment.columns.difference(['State','UER2013','UER2014','UER2015','UER2016','UER2017','UER2018','UER2019']), 1, inplace = True)\n",
    "\n",
    "#unemployment"
   ]
  },
  {
   "cell_type": "code",
   "execution_count": 400,
   "metadata": {},
   "outputs": [
    {
     "data": {
      "text/plain": [
       "<AxesSubplot:xlabel='index'>"
      ]
     },
     "execution_count": 400,
     "metadata": {},
     "output_type": "execute_result"
    },
    {
     "data": {
      "image/png": "[encoded data removed]",
      "text/plain": [
       "<Figure size 432x288 with 1 Axes>"
      ]
     },
     "metadata": {
      "needs_background": "light"
     },
     "output_type": "display_data"
    }
   ],
   "source": [
    "unemployment.set_index('State',inplace=True)\n",
    "unemployment = unemployment.transpose()\n",
    "unemployment = unemployment.reset_index(drop=False,inplace=False)\n",
    "stateSelected = 'Texas'\n",
    "unemployment.plot('index',stateSelected)"
   ]
  },
  {
   "cell_type": "code",
   "execution_count": 401,
   "metadata": {},
   "outputs": [
    {
     "name": "stderr",
     "output_type": "stream",
     "text": [
      "/var/folders/6t/5n6hzyfd7bxc1pxzzzxd788w0000gn/T/ipykernel_80274/3556024944.py:30: FutureWarning: In a future version of pandas all arguments of DataFrame.drop except for the argument 'labels' will be keyword-only\n",
      "  gdpData.drop(gdpData.columns.difference(['GeoName','GDP2013','GDP2014','GDP2015','GDP2016','GDP2017','GDP2018','GDP2019']), 1, inplace = True)\n"
     ]
    }
   ],
   "source": [
    "year13 = [col for col in gdpData.columns if '13' in col]\n",
    "gdpData['GDP2013'] = gdpData[year13].sum(axis=1)\n",
    "gdpData['GDP2013'] = gdpData['GDP2013']/12\n",
    "\n",
    "year14 = [col for col in gdpData.columns if '14' in col]\n",
    "gdpData['GDP2014'] = gdpData[year14].sum(axis=1)\n",
    "gdpData['GDP2014'] = gdpData['GDP2014']/12\n",
    "\n",
    "year15 = [col for col in gdpData.columns if '15' in col]\n",
    "gdpData['GDP2015'] = gdpData[year15].sum(axis=1)\n",
    "gdpData['GDP2015'] = gdpData['GDP2015']/12\n",
    "\n",
    "year16 = [col for col in gdpData.columns if '16' in col]\n",
    "gdpData['GDP2016'] = gdpData[year16].sum(axis=1)\n",
    "gdpData['GDP2016'] = gdpData['GDP2016']/12\n",
    "\n",
    "year17 = [col for col in gdpData.columns if '17' in col]\n",
    "gdpData['GDP2017'] = gdpData[year17].sum(axis=1)\n",
    "gdpData['GDP2017'] = gdpData['GDP2017']/12\n",
    "\n",
    "year18 = [col for col in gdpData.columns if '18' in col]\n",
    "gdpData['GDP2018'] = gdpData[year18].sum(axis=1)\n",
    "gdpData['GDP2018'] = gdpData['GDP2018']/12\n",
    "\n",
    "year19 = [col for col in gdpData.columns if '19' in col]\n",
    "gdpData['GDP2019'] = gdpData[year19].sum(axis=1)\n",
    "gdpData['GDP2019'] = gdpData['GDP2019']/12\n",
    "\n",
    "gdpData.reset_index(inplace = True, drop = False)\n",
    "gdpData.drop(gdpData.columns.difference(['GeoName','GDP2013','GDP2014','GDP2015','GDP2016','GDP2017','GDP2018','GDP2019']), 1, inplace = True)"
   ]
  },
  {
   "cell_type": "code",
   "execution_count": 402,
   "metadata": {},
   "outputs": [
    {
     "data": {
      "text/plain": [
       "<AxesSubplot:xlabel='index'>"
      ]
     },
     "execution_count": 402,
     "metadata": {},
     "output_type": "execute_result"
    },
    {
     "data": {
      "image/png": "[encoded data removed]",
      "text/plain": [
       "<Figure size 432x288 with 1 Axes>"
      ]
     },
     "metadata": {
      "needs_background": "light"
     },
     "output_type": "display_data"
    }
   ],
   "source": [
    "gdpData.set_index('GeoName',inplace=True)\n",
    "gdpData = gdpData.transpose()\n",
    "gdpData = gdpData.reset_index(drop=False,inplace=False)\n",
    "stateSelected = 'Texas'\n",
    "gdpData.plot('index',stateSelected)"
   ]
  },
  {
   "cell_type": "code",
   "execution_count": 403,
   "metadata": {},
   "outputs": [],
   "source": [
    "#Delete columns\n",
    "del population['SUMLEV']\n",
    "del population['REGION']\n",
    "del population['DIVISION']\n",
    "del population['STATE']\n",
    "del population['ESTIMATESBASE2010']\n",
    "del population['NPOPCHG_2010']\n",
    "del population['NPOPCHG_2011']\n",
    "del population['NPOPCHG_2012']\n",
    "del population['NPOPCHG_2013']\n",
    "del population['NPOPCHG_2014']\n",
    "del population['NPOPCHG_2015']\n",
    "del population['NPOPCHG_2016']\n",
    "del population['NPOPCHG_2017']\n",
    "del population['NPOPCHG_2018']\n",
    "del population['NPOPCHG_2019']\n",
    "del population['PPOPCHG_2010']\n",
    "del population['PPOPCHG_2011']\n",
    "del population['PPOPCHG_2012']\n",
    "del population['PPOPCHG_2013']\n",
    "del population['PPOPCHG_2014']\n",
    "del population['PPOPCHG_2015']\n",
    "del population['PPOPCHG_2016']\n",
    "del population['PPOPCHG_2017']\n",
    "del population['PPOPCHG_2018']\n",
    "del population['PPOPCHG_2019']\n",
    "del population['NRANK_ESTBASE2010']\n",
    "del population['NRANK_POPEST2010']\n",
    "del population['NRANK_POPEST2011']\n",
    "del population['NRANK_POPEST2012']\n",
    "del population['NRANK_POPEST2013']\n",
    "del population['NRANK_POPEST2014']\n",
    "del population['NRANK_POPEST2015']\n",
    "del population['NRANK_POPEST2016']\n",
    "del population['NRANK_POPEST2017']\n",
    "del population['NRANK_POPEST2018']\n",
    "del population['NRANK_POPEST2019']\n",
    "del population['NRANK_NPCHG2010']\n",
    "del population['NRANK_NPCHG2011']\n",
    "del population['NRANK_NPCHG2012']\n",
    "del population['NRANK_NPCHG2013']\n",
    "del population['NRANK_NPCHG2014']\n",
    "del population['NRANK_NPCHG2015']\n",
    "del population['NRANK_NPCHG2016']\n",
    "del population['NRANK_NPCHG2017']\n",
    "del population['NRANK_NPCHG2018']\n",
    "del population['NRANK_NPCHG2019']\n",
    "del population['NRANK_PPCHG2010']\n",
    "del population['NRANK_PPCHG2011']\n",
    "del population['NRANK_PPCHG2012']\n",
    "del population['NRANK_PPCHG2013']\n",
    "del population['NRANK_PPCHG2014']\n",
    "del population['NRANK_PPCHG2015']\n",
    "del population['NRANK_PPCHG2016']\n",
    "del population['NRANK_PPCHG2017']\n",
    "del population['NRANK_PPCHG2018']\n",
    "del population['NRANK_PPCHG2019']\n",
    "\n",
    "population.drop([0,1,2,3,4], axis = 0, inplace=True)\n",
    "population.reset_index(inplace = True, drop = True)\n",
    "del population['POPESTIMATE2010']\n",
    "del population['POPESTIMATE2011']\n",
    "del population['POPESTIMATE2012']"
   ]
  },
  {
   "cell_type": "code",
   "execution_count": 404,
   "metadata": {},
   "outputs": [
    {
     "data": {
      "text/plain": [
       "<AxesSubplot:xlabel='index'>"
      ]
     },
     "execution_count": 404,
     "metadata": {},
     "output_type": "execute_result"
    },
    {
     "data": {
      "image/png": "[encoded data removed]",
      "text/plain": [
       "<Figure size 432x288 with 1 Axes>"
      ]
     },
     "metadata": {
      "needs_background": "light"
     },
     "output_type": "display_data"
    }
   ],
   "source": [
    "population.set_index('NAME',inplace=True)\n",
    "population = population.transpose()\n",
    "population = population.reset_index(drop=False,inplace=False)\n",
    "stateSelected = 'Texas'\n",
    "population.plot('index',stateSelected)"
   ]
  },
  {
   "cell_type": "code",
   "execution_count": 405,
   "metadata": {},
   "outputs": [],
   "source": [
    "# dataframe = pd.merge(unemployment,gdpData,left_on='State',right_on='GeoName')\n",
    "# dataframe = pd.merge(dataframe,population,left_on='State',right_on='NAME')\n",
    "# del dataframe['GeoName']\n",
    "# del dataframe['NAME']\n",
    "# #dataframe\n",
    "# dataframe.reset_index(drop=False,inplace=False)\n",
    "# dataframe2 = dataframe.transpose()\n",
    "# #print(dataframe2)"
   ]
  }
 ],
 "metadata": {
  "interpreter": {
   "hash": "5487a9925b7f3c457bb516ab6eb5b508826c800e1088d7c7c43eeb2a6581e7e1"
  },
  "kernelspec": {
   "display_name": "Python 3.9.7 ('base')",
   "language": "python",
   "name": "python3"
  },
  "language_info": {
   "codemirror_mode": {
    "name": "ipython",
    "version": 3
   },
   "file_extension": ".py",
   "mimetype": "text/x-python",
   "name": "python",
   "nbconvert_exporter": "python",
   "pygments_lexer": "ipython3",
   "version": "3.9.7"
  },
  "orig_nbformat": 4
 },
 "nbformat": 4,
 "nbformat_minor": 2
}
