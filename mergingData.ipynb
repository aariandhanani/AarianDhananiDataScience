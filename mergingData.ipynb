{
 "cells": [
  {
   "cell_type": "markdown",
   "metadata": {},
   "source": [
    "Aarian Dhanani\n",
    "\n",
    "4/1/2022"
   ]
  },
  {
   "cell_type": "code",
   "execution_count": 135,
   "metadata": {},
   "outputs": [
    {
     "name": "stdout",
     "output_type": "stream",
     "text": [
      "\u001b[H\u001b[2J"
     ]
    }
   ],
   "source": [
    "#Setting up\n",
    "import pandas as pd\n",
    "import csv, matplotlib.pyplot as plt\n",
    "import os\n",
    "os.system('clear')\n",
    "\n",
    "#Opening the files\n",
    "population = pd.read_csv('state-population.csv')\n",
    "areas = pd.read_csv('state-areas.csv')\n",
    "abbrevs = pd.read_csv('state-abbrevs.csv')\n",
    "\n",
    "#Add Puerto Rico\n",
    "abbrevs.loc[len(abbrevs.index)] = ['Puerto Rico','PR']"
   ]
  },
  {
   "cell_type": "code",
   "execution_count": 136,
   "metadata": {},
   "outputs": [],
   "source": [
    "#Merge the dataframes\n",
    "merged1 = pd.merge(areas, abbrevs, on=\"state\")\n",
    "population = population.rename(columns={'state/region': 'abbreviation'})\n",
    "merged = pd.merge(population, merged1, on=\"abbreviation\")"
   ]
  },
  {
   "cell_type": "code",
   "execution_count": 137,
   "metadata": {},
   "outputs": [],
   "source": [
    "#Delete unecessary rows\n",
    "merged = merged[merged['ages'] != 'under18']\n",
    "merged = merged[merged['year'] == 2010]\n",
    "\n",
    "#Add population density column\n",
    "merged['population density'] = merged['population']/merged['area (sq. mi)']\n",
    "\n",
    "#Sort the dataframe by population density (highest to lowest)\n",
    "merged = merged.sort_values(by = 'population density', ascending = False)\n",
    "\n",
    "#Reset the index\n",
    "merged.reset_index(inplace = True, drop = False)\n",
    "\n",
    "#Drop all columns except for the top 10\n",
    "merged = merged.drop(range(10,52))\n",
    "\n",
    "#Drop unecessary columns\n",
    "merged.drop('index', inplace = True, axis = 1)\n",
    "merged.drop('ages', inplace = True, axis = 1)\n",
    "merged.drop('abbreviation', inplace = True, axis = 1)\n",
    "merged.drop('year', inplace = True, axis = 1)\n",
    "merged.drop('population', inplace = True, axis = 1)\n",
    "merged.drop('area (sq. mi)', inplace = True, axis = 1)"
   ]
  },
  {
   "cell_type": "code",
   "execution_count": 138,
   "metadata": {},
   "outputs": [
    {
     "name": "stdout",
     "output_type": "stream",
     "text": [
      "                  state  population density\n",
      "0  District of Columbia         8898.897059\n",
      "1           Puerto Rico         1058.665149\n",
      "2            New Jersey         1009.253268\n",
      "3          Rhode Island          681.339159\n",
      "4           Connecticut          645.600649\n",
      "5         Massachusetts          621.815538\n",
      "6              Maryland          466.445797\n",
      "7              Delaware          460.445752\n",
      "8              New York          356.094135\n",
      "9               Florida          286.597129\n"
     ]
    },
    {
     "data": {
      "text/plain": [
       "<AxesSubplot:xlabel='state'>"
      ]
     },
     "execution_count": 138,
     "metadata": {},
     "output_type": "execute_result"
    },
    {
     "data": {
      "image/png": "[encoded data removed]",
      "text/plain": [
       "<Figure size 432x288 with 1 Axes>"
      ]
     },
     "metadata": {
      "needs_background": "light"
     },
     "output_type": "display_data"
    }
   ],
   "source": [
    "#Display the dataframe\n",
    "print(merged)\n",
    "\n",
    "#Plot the data on a bar chart\n",
    "merged.plot.bar(x = 'state', y = 'population density')"
   ]
  }
 ],
 "metadata": {
  "interpreter": {
   "hash": "5487a9925b7f3c457bb516ab6eb5b508826c800e1088d7c7c43eeb2a6581e7e1"
  },
  "kernelspec": {
   "display_name": "Python 3.9.7 ('base')",
   "language": "python",
   "name": "python3"
  },
  "language_info": {
   "codemirror_mode": {
    "name": "ipython",
    "version": 3
   },
   "file_extension": ".py",
   "mimetype": "text/x-python",
   "name": "python",
   "nbconvert_exporter": "python",
   "pygments_lexer": "ipython3",
   "version": "3.9.7"
  },
  "orig_nbformat": 4
 },
 "nbformat": 4,
 "nbformat_minor": 2
}
