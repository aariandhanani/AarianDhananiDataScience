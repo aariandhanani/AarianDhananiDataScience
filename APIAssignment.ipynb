{
 "cells": [
  {
   "cell_type": "code",
   "execution_count": 2,
   "metadata": {},
   "outputs": [
    {
     "name": "stdout",
     "output_type": "stream",
     "text": [
      "\u001b[H\u001b[2J"
     ]
    },
    {
     "ename": "TypeError",
     "evalue": "the JSON object must be str, bytes or bytearray, not Response",
     "output_type": "error",
     "traceback": [
      "\u001b[0;31m---------------------------------------------------------------------------\u001b[0m",
      "\u001b[0;31mTypeError\u001b[0m                                 Traceback (most recent call last)",
      "\u001b[0;32m/var/folders/6t/5n6hzyfd7bxc1pxzzzxd788w0000gn/T/ipykernel_15171/2280638157.py\u001b[0m in \u001b[0;36m<module>\u001b[0;34m\u001b[0m\n\u001b[1;32m     45\u001b[0m \u001b[0;34m\u001b[0m\u001b[0m\n\u001b[1;32m     46\u001b[0m \u001b[0mrequest\u001b[0m \u001b[0;34m=\u001b[0m \u001b[0mrequests\u001b[0m\u001b[0;34m.\u001b[0m\u001b[0mget\u001b[0m\u001b[0;34m(\u001b[0m\u001b[0;34m'https://raw.githubusercontent.com/matthewreagan/WebstersEnglishDictionary/master/dictionary_compact.json'\u001b[0m\u001b[0;34m)\u001b[0m\u001b[0;34m\u001b[0m\u001b[0;34m\u001b[0m\u001b[0m\n\u001b[0;32m---> 47\u001b[0;31m \u001b[0mwords\u001b[0m \u001b[0;34m=\u001b[0m \u001b[0mjson\u001b[0m\u001b[0;34m.\u001b[0m\u001b[0mloads\u001b[0m\u001b[0;34m(\u001b[0m\u001b[0mrequest\u001b[0m\u001b[0;34m)\u001b[0m\u001b[0;34m\u001b[0m\u001b[0;34m\u001b[0m\u001b[0m\n\u001b[0m\u001b[1;32m     48\u001b[0m \u001b[0mprint\u001b[0m\u001b[0;34m(\u001b[0m\u001b[0mtype\u001b[0m\u001b[0;34m(\u001b[0m\u001b[0mwords\u001b[0m\u001b[0;34m)\u001b[0m\u001b[0;34m)\u001b[0m\u001b[0;34m\u001b[0m\u001b[0;34m\u001b[0m\u001b[0m\n\u001b[1;32m     49\u001b[0m \u001b[0;34m\u001b[0m\u001b[0m\n",
      "\u001b[0;32m~/opt/anaconda3/lib/python3.9/json/__init__.py\u001b[0m in \u001b[0;36mloads\u001b[0;34m(s, cls, object_hook, parse_float, parse_int, parse_constant, object_pairs_hook, **kw)\u001b[0m\n\u001b[1;32m    337\u001b[0m     \u001b[0;32melse\u001b[0m\u001b[0;34m:\u001b[0m\u001b[0;34m\u001b[0m\u001b[0;34m\u001b[0m\u001b[0m\n\u001b[1;32m    338\u001b[0m         \u001b[0;32mif\u001b[0m \u001b[0;32mnot\u001b[0m \u001b[0misinstance\u001b[0m\u001b[0;34m(\u001b[0m\u001b[0ms\u001b[0m\u001b[0;34m,\u001b[0m \u001b[0;34m(\u001b[0m\u001b[0mbytes\u001b[0m\u001b[0;34m,\u001b[0m \u001b[0mbytearray\u001b[0m\u001b[0;34m)\u001b[0m\u001b[0;34m)\u001b[0m\u001b[0;34m:\u001b[0m\u001b[0;34m\u001b[0m\u001b[0;34m\u001b[0m\u001b[0m\n\u001b[0;32m--> 339\u001b[0;31m             raise TypeError(f'the JSON object must be str, bytes or bytearray, '\n\u001b[0m\u001b[1;32m    340\u001b[0m                             f'not {s.__class__.__name__}')\n\u001b[1;32m    341\u001b[0m         \u001b[0ms\u001b[0m \u001b[0;34m=\u001b[0m \u001b[0ms\u001b[0m\u001b[0;34m.\u001b[0m\u001b[0mdecode\u001b[0m\u001b[0;34m(\u001b[0m\u001b[0mdetect_encoding\u001b[0m\u001b[0;34m(\u001b[0m\u001b[0ms\u001b[0m\u001b[0;34m)\u001b[0m\u001b[0;34m,\u001b[0m \u001b[0;34m'surrogatepass'\u001b[0m\u001b[0;34m)\u001b[0m\u001b[0;34m\u001b[0m\u001b[0;34m\u001b[0m\u001b[0m\n",
      "\u001b[0;31mTypeError\u001b[0m: the JSON object must be str, bytes or bytearray, not Response"
     ]
    }
   ],
   "source": [
    "# Aarian Dhanani from Maria Suarez\n",
    "# 02/08/2022\n",
    "# Word game with 3 levels:\n",
    "#        1. Fruits    \n",
    "#        2. Animals\n",
    "#        3. Computer Parts    \n",
    "# Choice:\n",
    "\n",
    "#Create word lists\n",
    "import os, random\n",
    "import requests\n",
    "import json\n",
    "#import urllib\n",
    "from urllib.request import urlopen\n",
    "#from urllib import request\n",
    "\n",
    "os.system('clear')\n",
    "word=\"\"\n",
    "guess=\"\"\n",
    "def selectWord():\n",
    "    global word\n",
    "    fruits=[\"bananas\", \"grapes\", \"waterMelon\", 'blueberries', 'apples', \"blackberries\",\n",
    "    \"papaya\", 'oranges', 'tomatoes', 'mangos', 'kiwis','strawberries' ]\n",
    "\n",
    "    # size= len(fruits)\n",
    "    # randy= random.randint(0,size)\n",
    "    # print(randy)\n",
    "    # word=fruits[randy]\n",
    "    # print(word)+\n",
    "    word=random.choice(fruits)\n",
    "\n",
    "def guessFunction():\n",
    "    global guess\n",
    "    check=True\n",
    "    while check:\n",
    "        try:\n",
    "            guess=input(\"\\nenter a letter to guess the word \")\n",
    "            if guess.isalpha() and len(guess)==1:\n",
    "                check=False\n",
    "            else:\n",
    "                print(\"only one letter please\")\n",
    "        except ValueError:\n",
    "            print(\"only one letter please\")\n",
    "\n",
    "\n",
    "request = requests.get('https://raw.githubusercontent.com/matthewreagan/WebstersEnglishDictionary/master/dictionary_compact.json')\n",
    "words = json.loads(request)\n",
    "print(type(words))\n",
    "\n",
    "\n",
    "gameOn=True\n",
    "tries=0\n",
    "letterGuessed=\"\"\n",
    "selectWord()\n",
    "while gameOn:\n",
    "   \n",
    "    guessFunction()\n",
    "    letterGuessed += guess  #letterGuessed=letterGuessed + guess\n",
    "    if guess not in word:\n",
    "        tries +=1\n",
    "        print(tries)# for testing delete when game is ready\n",
    "    countLetter=0\n",
    "    for letter in word:\n",
    "        if letter in letterGuessed:\n",
    "            print(letter, end=\" \")\n",
    "            countLetter +=1\n",
    "        else:\n",
    "            print(\"_\", end=\" \")\n",
    "    if tries >6:\n",
    "        print(\"\\n Sorry run out chances \")\n",
    "        #playGame() ask if they want to play again\n",
    "    if countLetter == len(word):\n",
    "        print (\"\\nyou guessed! \")\n",
    "        #Calculate score\n",
    "        #playGame()"
   ]
  }
 ],
 "metadata": {
  "interpreter": {
   "hash": "5487a9925b7f3c457bb516ab6eb5b508826c800e1088d7c7c43eeb2a6581e7e1"
  },
  "kernelspec": {
   "display_name": "Python 3.9.7 ('base')",
   "language": "python",
   "name": "python3"
  },
  "language_info": {
   "codemirror_mode": {
    "name": "ipython",
    "version": 3
   },
   "file_extension": ".py",
   "mimetype": "text/x-python",
   "name": "python",
   "nbconvert_exporter": "python",
   "pygments_lexer": "ipython3",
   "version": "3.9.7"
  },
  "orig_nbformat": 4
 },
 "nbformat": 4,
 "nbformat_minor": 2
}
