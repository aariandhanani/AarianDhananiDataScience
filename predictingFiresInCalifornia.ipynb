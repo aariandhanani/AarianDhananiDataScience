{
 "cells": [
  {
   "cell_type": "markdown",
   "metadata": {},
   "source": [
    "Aspects to Find:\n",
    "- Mean area of the fires ✅\n",
    "- Median area of the fire ✅\n",
    "- Location of the fire (unit) ✅\n",
    "- Number of days it takes to supress the fire an average\n",
    "- Causes\n",
    "- Number of fires per year ✅\n",
    "- Average number of fires per year\n",
    "- Median number of fires per year\n",
    "\n",
    "Questions:\n",
    "- Is there a correlation between rain and the number of fires per year?\n",
    "- Is there a correlation between average temperature and number of fires per year?\n",
    "- How can we prevent fires based on how most of them are started? Do we need laws?"
   ]
  },
  {
   "cell_type": "code",
   "execution_count": 146,
   "metadata": {},
   "outputs": [
    {
     "name": "stdout",
     "output_type": "stream",
     "text": [
      "\u001b[H\u001b[2J"
     ]
    }
   ],
   "source": [
    "#Setting up\n",
    "import pandas as pd\n",
    "import os\n",
    "import csv\n",
    "import matplotlib.pyplot as plt\n",
    "os.system('clear')\n",
    "fireData = pd.read_csv(\"californiaFireData.csv\")"
   ]
  },
  {
   "cell_type": "markdown",
   "metadata": {},
   "source": [
    "Location of the fires (unit)"
   ]
  },
  {
   "cell_type": "code",
   "execution_count": 147,
   "metadata": {},
   "outputs": [
    {
     "name": "stdout",
     "output_type": "stream",
     "text": [
      "UNIT_ID\n",
      "         2\n",
      "AEU    198\n",
      "AFV    111\n",
      "ANF    503\n",
      "APF      1\n",
      "      ... \n",
      "TUU    157\n",
      "VLJ      1\n",
      "VNC    403\n",
      "WED      1\n",
      "YNP    472\n",
      "Name: UNIT_ID, Length: 90, dtype: int64\n"
     ]
    }
   ],
   "source": [
    "#print(fireData)\n",
    "# fireCounts = fireData.groupby('UNIT_ID').UNIT_ID.count()\n",
    "# pd.DataFrame([],columns=[\"Unit\",\"Count\"])\n",
    "# print(type(fireCounts))\n",
    "# print(fireCounts)\n",
    "print(fireData.groupby('UNIT_ID').UNIT_ID.count())\n",
    "\n",
    "#Still need to graph this"
   ]
  },
  {
   "cell_type": "markdown",
   "metadata": {},
   "source": [
    "Mean area of the fires"
   ]
  },
  {
   "cell_type": "code",
   "execution_count": 148,
   "metadata": {},
   "outputs": [
    {
     "name": "stdout",
     "output_type": "stream",
     "text": [
      "The mean area of the fires in California is 12113522.155489773\n"
     ]
    }
   ],
   "source": [
    "print(\"The mean area of the fires in California is \" + str(abs(fireData.SHAPE_Area.mean())))"
   ]
  },
  {
   "cell_type": "markdown",
   "metadata": {},
   "source": [
    "Number of fires per year"
   ]
  },
  {
   "cell_type": "code",
   "execution_count": 149,
   "metadata": {},
   "outputs": [
    {
     "name": "stdout",
     "output_type": "stream",
     "text": [
      "        UNIT_ID\n",
      "YEAR_          \n",
      "1878.0        1\n",
      "1895.0        1\n",
      "1896.0        1\n",
      "1898.0        5\n",
      "1900.0       12\n",
      "...         ...\n",
      "2016.0      352\n",
      "2017.0      607\n",
      "2018.0      410\n",
      "2019.0      308\n",
      "2020.0      496\n",
      "\n",
      "[123 rows x 1 columns]\n",
      "      YEAR_  UNIT_ID\n",
      "0    1878.0        1\n",
      "1    1895.0        1\n",
      "2    1896.0        1\n",
      "3    1898.0        5\n",
      "4    1900.0       12\n",
      "..      ...      ...\n",
      "118  2016.0      352\n",
      "119  2017.0      607\n",
      "120  2018.0      410\n",
      "121  2019.0      308\n",
      "122  2020.0      496\n",
      "\n",
      "[123 rows x 2 columns]\n"
     ]
    },
    {
     "data": {
      "image/png": "[encoded data removed]",
      "text/plain": [
       "<Figure size 432x288 with 1 Axes>"
      ]
     },
     "metadata": {
      "needs_background": "light"
     },
     "output_type": "display_data"
    }
   ],
   "source": [
    "firesPerYear = pd.DataFrame(fireData.groupby('YEAR_').UNIT_ID.count())\n",
    "print(firesPerYear)\n",
    "firesPerYear.to_csv(\"fireTesting.csv\")\n",
    "#firesPerYear.plot.scatter(x=\"YEAR_\",y=\"UNIT_ID\")\n",
    "#firesPerYear.plot()\n",
    "\n",
    "firesPerYear.reset_index(inplace = True, drop = False)\n",
    "#newFiresPerYear = pd.DataFrame(firesPerYear)\n",
    "print(firesPerYear)\n",
    "#newFiresPerYear = pd.read_csv(\"fireTesting.csv\")\n",
    "firesPerYear.plot.scatter(x = 'YEAR_', y = 'UNIT_ID')\n",
    "\n",
    "\n",
    "plt.show()\n",
    "#Still need to plot"
   ]
  },
  {
   "cell_type": "markdown",
   "metadata": {},
   "source": [
    "Average Number of Fires Per Year"
   ]
  },
  {
   "cell_type": "code",
   "execution_count": 150,
   "metadata": {},
   "outputs": [
    {
     "name": "stdout",
     "output_type": "stream",
     "text": [
      "172.52032520325204\n"
     ]
    }
   ],
   "source": [
    "print(abs(firesPerYear.UNIT_ID.mean()))"
   ]
  },
  {
   "cell_type": "markdown",
   "metadata": {},
   "source": [
    "Median Area of the fires"
   ]
  },
  {
   "cell_type": "code",
   "execution_count": 151,
   "metadata": {},
   "outputs": [
    {
     "name": "stdout",
     "output_type": "stream",
     "text": [
      "The median area of the fires in California is 1023914.7432780301\n"
     ]
    }
   ],
   "source": [
    "print(\"The median area of the fires in California is \" + str(abs(fireData.SHAPE_Area.median())))"
   ]
  }
 ],
 "metadata": {
  "interpreter": {
   "hash": "5487a9925b7f3c457bb516ab6eb5b508826c800e1088d7c7c43eeb2a6581e7e1"
  },
  "kernelspec": {
   "display_name": "Python 3.9.7 ('base')",
   "language": "python",
   "name": "python3"
  },
  "language_info": {
   "codemirror_mode": {
    "name": "ipython",
    "version": 3
   },
   "file_extension": ".py",
   "mimetype": "text/x-python",
   "name": "python",
   "nbconvert_exporter": "python",
   "pygments_lexer": "ipython3",
   "version": "3.9.7"
  },
  "orig_nbformat": 4
 },
 "nbformat": 4,
 "nbformat_minor": 2
}
