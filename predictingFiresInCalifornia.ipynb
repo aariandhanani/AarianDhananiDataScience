{
 "cells": [
  {
   "cell_type": "markdown",
   "metadata": {},
   "source": [
    "Aspects to Find:\n",
    "- Mean area of the fires ✅\n",
    "- Median area of the fire ✅\n",
    "- Location of the fire (unit) ✅\n",
    "- Number of days it takes to supress the fire an average\n",
    "- Causes ✅\n",
    "- Number of fires per year ✅\n",
    "- Mean number of fires per year ✅\n",
    "- Median number of fires per year ✅"
   ]
  },
  {
   "cell_type": "code",
   "execution_count": 65,
   "metadata": {},
   "outputs": [
    {
     "name": "stdout",
     "output_type": "stream",
     "text": [
      "\u001b[H\u001b[2J       OBJECTID   YEAR_ STATE AGENCY UNIT_ID     FIRE_NAME INC_NUM  \\\n",
      "0         21440  2020.0    CA    CDF     NEU        NELSON   13212   \n",
      "1         21441  2020.0    CA    CDF     NEU       AMORUSO   11799   \n",
      "2         21442  2020.0    CA    CDF     NEU        ATHENS   18493   \n",
      "3         21443  2020.0    CA    CDF     NEU       FLEMING    7619   \n",
      "4         21444  2020.0    CA    CDF     NEU      MELANESE    8471   \n",
      "...         ...     ...   ...    ...     ...           ...     ...   \n",
      "21313     42760  2019.0    CA    CCO     LAC        MUREAU     NaN   \n",
      "21314     42761  2019.0    CA    LRA     NaN           OAK     NaN   \n",
      "21315     42762  2019.0    CA    LRA     LDF        BARHAM     845   \n",
      "21316     42763  2019.0    CA    NPS     MNP          STAR   13598   \n",
      "21317     42764  2019.0    CA    LRA     LDF  SADDLE RIDGE    1582   \n",
      "\n",
      "                   ALARM_DATE               CONT_DATE  \\\n",
      "0      2020/06/18 00:00:00+00  2020/06/23 00:00:00+00   \n",
      "1      2020/06/01 00:00:00+00  2020/06/04 00:00:00+00   \n",
      "2      2020/08/10 00:00:00+00  2020/03/01 00:00:00+00   \n",
      "3      2020/03/31 00:00:00+00  2020/04/01 00:00:00+00   \n",
      "4      2020/04/14 00:00:00+00  2020/04/19 00:00:00+00   \n",
      "...                       ...                     ...   \n",
      "21313  2019/10/30 00:00:00+00  2019/10/30 00:00:00+00   \n",
      "21314  2019/10/28 00:00:00+00  2019/10/28 00:00:00+00   \n",
      "21315  2019/11/09 00:00:00+00  2019/11/10 00:00:00+00   \n",
      "21316                     NaN                     NaN   \n",
      "21317  2019/10/10 00:00:00+00  2019/10/31 00:00:00+00   \n",
      "\n",
      "                              CAUSE  \\\n",
      "0                    11 - Powerline   \n",
      "1                 2 - Equipment Use   \n",
      "2        14 - Unkown / Unidentified   \n",
      "3                 9 - Miscellaneous   \n",
      "4      18 - Escaped Prescribed Burn   \n",
      "...                             ...   \n",
      "21313                           NaN   \n",
      "21314    14 - Unkown / Unidentified   \n",
      "21315    14 - Unkown / Unidentified   \n",
      "21316    14 - Unkown / Unidentified   \n",
      "21317    14 - Unkown / Unidentified   \n",
      "\n",
      "                                              COMMENTS  REPORT_AC  \\\n",
      "0                                                  NaN      110.0   \n",
      "1                                                  NaN      670.0   \n",
      "2                                                  NaN       26.0   \n",
      "3                                                  NaN       13.0   \n",
      "4                                                  NaN       10.3   \n",
      "...                                                ...        ...   \n",
      "21313                                              NaN        NaN   \n",
      "21314  NPS#596 Rapid ROS in light grassy 1yr old fuels        NaN   \n",
      "21315                                       LACFD 0845        NaN   \n",
      "21316                                              NaN        NaN   \n",
      "21317         shape from GEOMAC, dat from CAL FIRE web     8799.0   \n",
      "\n",
      "         GIS_ACRES  C_METHOD  OBJECTIVE FIRE_NUM  SHAPE_Length    SHAPE_Area  \n",
      "0       109.602500       1.0        1.0      NaN   4179.743142 -7.331347e+05  \n",
      "1       685.585020       1.0        1.0      NaN  12399.375390 -4.578172e+06  \n",
      "2        27.300480       1.0        1.0      NaN   2119.194120 -1.823876e+05  \n",
      "3        12.931550       1.0        1.0      NaN   2029.524881 -8.667942e+04  \n",
      "4        10.315960       1.0        1.0      NaN   1342.742903 -7.017912e+04  \n",
      "...            ...       ...        ...      ...           ...           ...  \n",
      "21313     6.297734       NaN        1.0      NaN    897.323534 -3.730642e+04  \n",
      "21314     8.482671       8.0        1.0      NaN   1215.382952 -5.024716e+04  \n",
      "21315    64.888229       8.0        1.0      NaN   4093.657796 -3.843117e+05  \n",
      "21316    66.587181       8.0        1.0      NaN   4777.042672 -4.051741e+05  \n",
      "21317  8799.325200       7.0        1.0      NaN  86547.407830 -5.233553e+07  \n",
      "\n",
      "[21318 rows x 18 columns]\n"
     ]
    }
   ],
   "source": [
    "#Setting up\n",
    "import pandas as pd\n",
    "import os\n",
    "import csv\n",
    "import datetime\n",
    "import matplotlib.pyplot as plt\n",
    "os.system('clear')\n",
    "fireData = pd.read_csv(\"californiaFiresDataset.csv\")\n",
    "print(fireData)"
   ]
  },
  {
   "cell_type": "markdown",
   "metadata": {},
   "source": [
    "Location of the fires (unit)"
   ]
  },
  {
   "cell_type": "code",
   "execution_count": 66,
   "metadata": {},
   "outputs": [
    {
     "name": "stdout",
     "output_type": "stream",
     "text": [
      "UNIT_ID\n",
      "         2\n",
      "AEU    198\n",
      "AFV    111\n",
      "ANF    503\n",
      "APF      1\n",
      "      ... \n",
      "TUU    157\n",
      "VLJ      1\n",
      "VNC    403\n",
      "WED      1\n",
      "YNP    472\n",
      "Name: UNIT_ID, Length: 90, dtype: int64\n"
     ]
    }
   ],
   "source": [
    "print(fireData.groupby('UNIT_ID').UNIT_ID.count())"
   ]
  },
  {
   "cell_type": "markdown",
   "metadata": {},
   "source": [
    "Mean area of the fires"
   ]
  },
  {
   "cell_type": "code",
   "execution_count": 67,
   "metadata": {},
   "outputs": [
    {
     "name": "stdout",
     "output_type": "stream",
     "text": [
      "The mean area of the fires in California is 12113522.155459156\n"
     ]
    }
   ],
   "source": [
    "print(\"The mean area of the fires in California is \" + str(abs(fireData.SHAPE_Area.mean())))"
   ]
  },
  {
   "cell_type": "markdown",
   "metadata": {},
   "source": [
    "Number of fires per year"
   ]
  },
  {
   "cell_type": "code",
   "execution_count": 68,
   "metadata": {},
   "outputs": [
    {
     "data": {
      "image/png": "[encoded data removed]",
      "text/plain": [
       "<Figure size 432x288 with 1 Axes>"
      ]
     },
     "metadata": {
      "needs_background": "light"
     },
     "output_type": "display_data"
    }
   ],
   "source": [
    "#Create a new dataframe for just the data that's relevant\n",
    "firesPerYear = pd.DataFrame(fireData.groupby('YEAR_').UNIT_ID.count())\n",
    "firesPerYear.to_csv(\"fireTesting.csv\") #For testing purposes\n",
    "#Fix the data so that it's in readable form to plot\n",
    "firesPerYear.reset_index(inplace = True, drop = False)\n",
    "#print(firesPerYear)\n",
    "#Plot the data\n",
    "firesPerYear.plot.scatter(x = 'YEAR_', y = 'UNIT_ID')\n",
    "plt.show()"
   ]
  },
  {
   "cell_type": "markdown",
   "metadata": {},
   "source": [
    "Average Number of Fires Per Year"
   ]
  },
  {
   "cell_type": "code",
   "execution_count": 69,
   "metadata": {},
   "outputs": [
    {
     "name": "stdout",
     "output_type": "stream",
     "text": [
      "172.52032520325204\n"
     ]
    }
   ],
   "source": [
    "print(abs(firesPerYear.UNIT_ID.mean()))"
   ]
  },
  {
   "cell_type": "markdown",
   "metadata": {},
   "source": [
    "Median Number of Fires Per Year"
   ]
  },
  {
   "cell_type": "code",
   "execution_count": 70,
   "metadata": {},
   "outputs": [
    {
     "name": "stdout",
     "output_type": "stream",
     "text": [
      "160.0\n"
     ]
    }
   ],
   "source": [
    "print(abs(firesPerYear.UNIT_ID.median()))"
   ]
  },
  {
   "cell_type": "markdown",
   "metadata": {},
   "source": [
    "Median Area of the fires"
   ]
  },
  {
   "cell_type": "code",
   "execution_count": 71,
   "metadata": {},
   "outputs": [
    {
     "name": "stdout",
     "output_type": "stream",
     "text": [
      "The median area of the fires in California is 1023914.7435\n"
     ]
    }
   ],
   "source": [
    "print(\"The median area of the fires in California is \" + str(abs(fireData.SHAPE_Area.median())))"
   ]
  },
  {
   "cell_type": "markdown",
   "metadata": {},
   "source": [
    "Causes of the fires"
   ]
  },
  {
   "cell_type": "code",
   "execution_count": 72,
   "metadata": {},
   "outputs": [
    {
     "name": "stdout",
     "output_type": "stream",
     "text": [
      "                            CAUSE  UNIT_ID\n",
      "0                   1 - Lightning     3453\n",
      "1                    10 - Vehicle      454\n",
      "2                  11 - Powerline      410\n",
      "3       12 - Firefighter Training        5\n",
      "4   13 - Non-Firefighter Training       11\n",
      "5      14 - Unkown / Unidentified     9535\n",
      "6                  15 - Structure       21\n",
      "7                   16 - Aircraft       14\n",
      "8    18 - Escaped Prescribed Burn       90\n",
      "9     19 - Illegal Alien Campfire       17\n",
      "10              2 - Equipment Use     1246\n",
      "11                    3 - Infared      342\n",
      "12                   4 - Campfire      380\n",
      "13                     5 - Debris      723\n",
      "14                 6 - Hand Drawn       80\n",
      "15                      7 - Arson      902\n",
      "16          8 - Playing with fire      196\n",
      "17              9 - Miscellaneous     3375\n"
     ]
    },
    {
     "data": {
      "image/png": "[encoded data removed]",
      "text/plain": [
       "<Figure size 432x288 with 1 Axes>"
      ]
     },
     "metadata": {
      "needs_background": "light"
     },
     "output_type": "display_data"
    }
   ],
   "source": [
    "#Create a new dataframe with the relevant data\n",
    "fireCauses = pd.DataFrame(fireData.groupby('CAUSE').UNIT_ID.count())\n",
    "#print(fireCauses)\n",
    "#Make the data readable and ready to plot\n",
    "fireCauses.reset_index(inplace = True, drop = False)\n",
    "print(fireCauses)\n",
    "#Plot the data\n",
    "fireCauses.plot.bar(x = 'CAUSE', y = 'UNIT_ID')\n",
    "\n",
    "plt.show()"
   ]
  },
  {
   "cell_type": "markdown",
   "metadata": {},
   "source": [
    "Subtract the Dates"
   ]
  },
  {
   "cell_type": "code",
   "execution_count": 73,
   "metadata": {},
   "outputs": [
    {
     "ename": "OutOfBoundsDatetime",
     "evalue": "Out of bounds nanosecond timestamp: 219-05-29 00:00:00",
     "output_type": "error",
     "traceback": [
      "\u001b[0;31m---------------------------------------------------------------------------\u001b[0m",
      "\u001b[0;31mTypeError\u001b[0m                                 Traceback (most recent call last)",
      "\u001b[0;32m~/opt/anaconda3/lib/python3.9/site-packages/pandas/core/arrays/datetimes.py\u001b[0m in \u001b[0;36mobjects_to_datetime64ns\u001b[0;34m(data, dayfirst, yearfirst, utc, errors, require_iso8601, allow_object, allow_mixed)\u001b[0m\n\u001b[1;32m   2186\u001b[0m         \u001b[0;32mtry\u001b[0m\u001b[0;34m:\u001b[0m\u001b[0;34m\u001b[0m\u001b[0;34m\u001b[0m\u001b[0m\n\u001b[0;32m-> 2187\u001b[0;31m             \u001b[0mvalues\u001b[0m\u001b[0;34m,\u001b[0m \u001b[0mtz_parsed\u001b[0m \u001b[0;34m=\u001b[0m \u001b[0mconversion\u001b[0m\u001b[0;34m.\u001b[0m\u001b[0mdatetime_to_datetime64\u001b[0m\u001b[0;34m(\u001b[0m\u001b[0mdata\u001b[0m\u001b[0;34m.\u001b[0m\u001b[0mravel\u001b[0m\u001b[0;34m(\u001b[0m\u001b[0;34m\"K\"\u001b[0m\u001b[0;34m)\u001b[0m\u001b[0;34m)\u001b[0m\u001b[0;34m\u001b[0m\u001b[0;34m\u001b[0m\u001b[0m\n\u001b[0m\u001b[1;32m   2188\u001b[0m             \u001b[0;31m# If tzaware, these values represent unix timestamps, so we\u001b[0m\u001b[0;34m\u001b[0m\u001b[0;34m\u001b[0m\u001b[0m\n",
      "\u001b[0;32m~/opt/anaconda3/lib/python3.9/site-packages/pandas/_libs/tslibs/conversion.pyx\u001b[0m in \u001b[0;36mpandas._libs.tslibs.conversion.datetime_to_datetime64\u001b[0;34m()\u001b[0m\n",
      "\u001b[0;31mTypeError\u001b[0m: Unrecognized value type: <class 'str'>",
      "\nDuring handling of the above exception, another exception occurred:\n",
      "\u001b[0;31mOutOfBoundsDatetime\u001b[0m                       Traceback (most recent call last)",
      "\u001b[0;32m/var/folders/6t/5n6hzyfd7bxc1pxzzzxd788w0000gn/T/ipykernel_33031/2935067364.py\u001b[0m in \u001b[0;36m<module>\u001b[0;34m\u001b[0m\n\u001b[1;32m      1\u001b[0m \u001b[0mdf\u001b[0m \u001b[0;34m=\u001b[0m \u001b[0mpd\u001b[0m\u001b[0;34m.\u001b[0m\u001b[0mread_csv\u001b[0m\u001b[0;34m(\u001b[0m\u001b[0;34m\"californiaFiresDataset.csv\"\u001b[0m\u001b[0;34m)\u001b[0m\u001b[0;34m\u001b[0m\u001b[0;34m\u001b[0m\u001b[0m\n\u001b[1;32m      2\u001b[0m \u001b[0;34m\u001b[0m\u001b[0m\n\u001b[0;32m----> 3\u001b[0;31m \u001b[0mdf\u001b[0m\u001b[0;34m[\u001b[0m\u001b[0;34m'ALARM_DATE'\u001b[0m\u001b[0;34m]\u001b[0m \u001b[0;34m=\u001b[0m \u001b[0mpd\u001b[0m\u001b[0;34m.\u001b[0m\u001b[0mto_datetime\u001b[0m\u001b[0;34m(\u001b[0m\u001b[0mdf\u001b[0m\u001b[0;34m[\u001b[0m\u001b[0;34m'ALARM_DATE'\u001b[0m\u001b[0;34m]\u001b[0m\u001b[0;34m)\u001b[0m\u001b[0;34m\u001b[0m\u001b[0;34m\u001b[0m\u001b[0m\n\u001b[0m\u001b[1;32m      4\u001b[0m \u001b[0mdf\u001b[0m\u001b[0;34m[\u001b[0m\u001b[0;34m'CONT_DATE'\u001b[0m\u001b[0;34m]\u001b[0m \u001b[0;34m=\u001b[0m \u001b[0mpd\u001b[0m\u001b[0;34m.\u001b[0m\u001b[0mto_datetime\u001b[0m\u001b[0;34m(\u001b[0m\u001b[0mdf\u001b[0m\u001b[0;34m[\u001b[0m\u001b[0;34m'CONT_DATE'\u001b[0m\u001b[0;34m]\u001b[0m\u001b[0;34m)\u001b[0m\u001b[0;34m\u001b[0m\u001b[0;34m\u001b[0m\u001b[0m\n\u001b[1;32m      5\u001b[0m \u001b[0;34m\u001b[0m\u001b[0m\n",
      "\u001b[0;32m~/opt/anaconda3/lib/python3.9/site-packages/pandas/core/tools/datetimes.py\u001b[0m in \u001b[0;36mto_datetime\u001b[0;34m(arg, errors, dayfirst, yearfirst, utc, format, exact, unit, infer_datetime_format, origin, cache)\u001b[0m\n\u001b[1;32m    881\u001b[0m                 \u001b[0mresult\u001b[0m \u001b[0;34m=\u001b[0m \u001b[0mresult\u001b[0m\u001b[0;34m.\u001b[0m\u001b[0mtz_localize\u001b[0m\u001b[0;34m(\u001b[0m\u001b[0mtz\u001b[0m\u001b[0;34m)\u001b[0m  \u001b[0;31m# type: ignore[call-arg]\u001b[0m\u001b[0;34m\u001b[0m\u001b[0;34m\u001b[0m\u001b[0m\n\u001b[1;32m    882\u001b[0m     \u001b[0;32melif\u001b[0m \u001b[0misinstance\u001b[0m\u001b[0;34m(\u001b[0m\u001b[0marg\u001b[0m\u001b[0;34m,\u001b[0m \u001b[0mABCSeries\u001b[0m\u001b[0;34m)\u001b[0m\u001b[0;34m:\u001b[0m\u001b[0;34m\u001b[0m\u001b[0;34m\u001b[0m\u001b[0m\n\u001b[0;32m--> 883\u001b[0;31m         \u001b[0mcache_array\u001b[0m \u001b[0;34m=\u001b[0m \u001b[0m_maybe_cache\u001b[0m\u001b[0;34m(\u001b[0m\u001b[0marg\u001b[0m\u001b[0;34m,\u001b[0m \u001b[0mformat\u001b[0m\u001b[0;34m,\u001b[0m \u001b[0mcache\u001b[0m\u001b[0;34m,\u001b[0m \u001b[0mconvert_listlike\u001b[0m\u001b[0;34m)\u001b[0m\u001b[0;34m\u001b[0m\u001b[0;34m\u001b[0m\u001b[0m\n\u001b[0m\u001b[1;32m    884\u001b[0m         \u001b[0;32mif\u001b[0m \u001b[0;32mnot\u001b[0m \u001b[0mcache_array\u001b[0m\u001b[0;34m.\u001b[0m\u001b[0mempty\u001b[0m\u001b[0;34m:\u001b[0m\u001b[0;34m\u001b[0m\u001b[0;34m\u001b[0m\u001b[0m\n\u001b[1;32m    885\u001b[0m             \u001b[0mresult\u001b[0m \u001b[0;34m=\u001b[0m \u001b[0marg\u001b[0m\u001b[0;34m.\u001b[0m\u001b[0mmap\u001b[0m\u001b[0;34m(\u001b[0m\u001b[0mcache_array\u001b[0m\u001b[0;34m)\u001b[0m\u001b[0;34m\u001b[0m\u001b[0;34m\u001b[0m\u001b[0m\n",
      "\u001b[0;32m~/opt/anaconda3/lib/python3.9/site-packages/pandas/core/tools/datetimes.py\u001b[0m in \u001b[0;36m_maybe_cache\u001b[0;34m(arg, format, cache, convert_listlike)\u001b[0m\n\u001b[1;32m    193\u001b[0m         \u001b[0munique_dates\u001b[0m \u001b[0;34m=\u001b[0m \u001b[0munique\u001b[0m\u001b[0;34m(\u001b[0m\u001b[0marg\u001b[0m\u001b[0;34m)\u001b[0m\u001b[0;34m\u001b[0m\u001b[0;34m\u001b[0m\u001b[0m\n\u001b[1;32m    194\u001b[0m         \u001b[0;32mif\u001b[0m \u001b[0mlen\u001b[0m\u001b[0;34m(\u001b[0m\u001b[0munique_dates\u001b[0m\u001b[0;34m)\u001b[0m \u001b[0;34m<\u001b[0m \u001b[0mlen\u001b[0m\u001b[0;34m(\u001b[0m\u001b[0marg\u001b[0m\u001b[0;34m)\u001b[0m\u001b[0;34m:\u001b[0m\u001b[0;34m\u001b[0m\u001b[0;34m\u001b[0m\u001b[0m\n\u001b[0;32m--> 195\u001b[0;31m             \u001b[0mcache_dates\u001b[0m \u001b[0;34m=\u001b[0m \u001b[0mconvert_listlike\u001b[0m\u001b[0;34m(\u001b[0m\u001b[0munique_dates\u001b[0m\u001b[0;34m,\u001b[0m \u001b[0mformat\u001b[0m\u001b[0;34m)\u001b[0m\u001b[0;34m\u001b[0m\u001b[0;34m\u001b[0m\u001b[0m\n\u001b[0m\u001b[1;32m    196\u001b[0m             \u001b[0mcache_array\u001b[0m \u001b[0;34m=\u001b[0m \u001b[0mSeries\u001b[0m\u001b[0;34m(\u001b[0m\u001b[0mcache_dates\u001b[0m\u001b[0;34m,\u001b[0m \u001b[0mindex\u001b[0m\u001b[0;34m=\u001b[0m\u001b[0munique_dates\u001b[0m\u001b[0;34m)\u001b[0m\u001b[0;34m\u001b[0m\u001b[0;34m\u001b[0m\u001b[0m\n\u001b[1;32m    197\u001b[0m             \u001b[0;31m# GH#39882 and GH#35888 in case of None and NaT we get duplicates\u001b[0m\u001b[0;34m\u001b[0m\u001b[0;34m\u001b[0m\u001b[0m\n",
      "\u001b[0;32m~/opt/anaconda3/lib/python3.9/site-packages/pandas/core/tools/datetimes.py\u001b[0m in \u001b[0;36m_convert_listlike_datetimes\u001b[0;34m(arg, format, name, tz, unit, errors, infer_datetime_format, dayfirst, yearfirst, exact)\u001b[0m\n\u001b[1;32m    399\u001b[0m     \u001b[0;32massert\u001b[0m \u001b[0mformat\u001b[0m \u001b[0;32mis\u001b[0m \u001b[0;32mNone\u001b[0m \u001b[0;32mor\u001b[0m \u001b[0minfer_datetime_format\u001b[0m\u001b[0;34m\u001b[0m\u001b[0;34m\u001b[0m\u001b[0m\n\u001b[1;32m    400\u001b[0m     \u001b[0mutc\u001b[0m \u001b[0;34m=\u001b[0m \u001b[0mtz\u001b[0m \u001b[0;34m==\u001b[0m \u001b[0;34m\"utc\"\u001b[0m\u001b[0;34m\u001b[0m\u001b[0;34m\u001b[0m\u001b[0m\n\u001b[0;32m--> 401\u001b[0;31m     result, tz_parsed = objects_to_datetime64ns(\n\u001b[0m\u001b[1;32m    402\u001b[0m         \u001b[0marg\u001b[0m\u001b[0;34m,\u001b[0m\u001b[0;34m\u001b[0m\u001b[0;34m\u001b[0m\u001b[0m\n\u001b[1;32m    403\u001b[0m         \u001b[0mdayfirst\u001b[0m\u001b[0;34m=\u001b[0m\u001b[0mdayfirst\u001b[0m\u001b[0;34m,\u001b[0m\u001b[0;34m\u001b[0m\u001b[0;34m\u001b[0m\u001b[0m\n",
      "\u001b[0;32m~/opt/anaconda3/lib/python3.9/site-packages/pandas/core/arrays/datetimes.py\u001b[0m in \u001b[0;36mobjects_to_datetime64ns\u001b[0;34m(data, dayfirst, yearfirst, utc, errors, require_iso8601, allow_object, allow_mixed)\u001b[0m\n\u001b[1;32m   2191\u001b[0m             \u001b[0;32mreturn\u001b[0m \u001b[0mvalues\u001b[0m\u001b[0;34m.\u001b[0m\u001b[0mview\u001b[0m\u001b[0;34m(\u001b[0m\u001b[0;34m\"i8\"\u001b[0m\u001b[0;34m)\u001b[0m\u001b[0;34m,\u001b[0m \u001b[0mtz_parsed\u001b[0m\u001b[0;34m\u001b[0m\u001b[0;34m\u001b[0m\u001b[0m\n\u001b[1;32m   2192\u001b[0m         \u001b[0;32mexcept\u001b[0m \u001b[0;34m(\u001b[0m\u001b[0mValueError\u001b[0m\u001b[0;34m,\u001b[0m \u001b[0mTypeError\u001b[0m\u001b[0;34m)\u001b[0m\u001b[0;34m:\u001b[0m\u001b[0;34m\u001b[0m\u001b[0;34m\u001b[0m\u001b[0m\n\u001b[0;32m-> 2193\u001b[0;31m             \u001b[0;32mraise\u001b[0m \u001b[0merr\u001b[0m\u001b[0;34m\u001b[0m\u001b[0;34m\u001b[0m\u001b[0m\n\u001b[0m\u001b[1;32m   2194\u001b[0m \u001b[0;34m\u001b[0m\u001b[0m\n\u001b[1;32m   2195\u001b[0m     \u001b[0;32mif\u001b[0m \u001b[0mtz_parsed\u001b[0m \u001b[0;32mis\u001b[0m \u001b[0;32mnot\u001b[0m \u001b[0;32mNone\u001b[0m\u001b[0;34m:\u001b[0m\u001b[0;34m\u001b[0m\u001b[0;34m\u001b[0m\u001b[0m\n",
      "\u001b[0;32m~/opt/anaconda3/lib/python3.9/site-packages/pandas/core/arrays/datetimes.py\u001b[0m in \u001b[0;36mobjects_to_datetime64ns\u001b[0;34m(data, dayfirst, yearfirst, utc, errors, require_iso8601, allow_object, allow_mixed)\u001b[0m\n\u001b[1;32m   2173\u001b[0m     \u001b[0morder\u001b[0m\u001b[0;34m:\u001b[0m \u001b[0mLiteral\u001b[0m\u001b[0;34m[\u001b[0m\u001b[0;34m\"F\"\u001b[0m\u001b[0;34m,\u001b[0m \u001b[0;34m\"C\"\u001b[0m\u001b[0;34m]\u001b[0m \u001b[0;34m=\u001b[0m \u001b[0;34m\"F\"\u001b[0m \u001b[0;32mif\u001b[0m \u001b[0mflags\u001b[0m\u001b[0;34m.\u001b[0m\u001b[0mf_contiguous\u001b[0m \u001b[0;32melse\u001b[0m \u001b[0;34m\"C\"\u001b[0m\u001b[0;34m\u001b[0m\u001b[0;34m\u001b[0m\u001b[0m\n\u001b[1;32m   2174\u001b[0m     \u001b[0;32mtry\u001b[0m\u001b[0;34m:\u001b[0m\u001b[0;34m\u001b[0m\u001b[0;34m\u001b[0m\u001b[0m\n\u001b[0;32m-> 2175\u001b[0;31m         result, tz_parsed = tslib.array_to_datetime(\n\u001b[0m\u001b[1;32m   2176\u001b[0m             \u001b[0mdata\u001b[0m\u001b[0;34m.\u001b[0m\u001b[0mravel\u001b[0m\u001b[0;34m(\u001b[0m\u001b[0;34m\"K\"\u001b[0m\u001b[0;34m)\u001b[0m\u001b[0;34m,\u001b[0m\u001b[0;34m\u001b[0m\u001b[0;34m\u001b[0m\u001b[0m\n\u001b[1;32m   2177\u001b[0m             \u001b[0merrors\u001b[0m\u001b[0;34m=\u001b[0m\u001b[0merrors\u001b[0m\u001b[0;34m,\u001b[0m\u001b[0;34m\u001b[0m\u001b[0;34m\u001b[0m\u001b[0m\n",
      "\u001b[0;32m~/opt/anaconda3/lib/python3.9/site-packages/pandas/_libs/tslib.pyx\u001b[0m in \u001b[0;36mpandas._libs.tslib.array_to_datetime\u001b[0;34m()\u001b[0m\n",
      "\u001b[0;32m~/opt/anaconda3/lib/python3.9/site-packages/pandas/_libs/tslib.pyx\u001b[0m in \u001b[0;36mpandas._libs.tslib.array_to_datetime\u001b[0;34m()\u001b[0m\n",
      "\u001b[0;32m~/opt/anaconda3/lib/python3.9/site-packages/pandas/_libs/tslib.pyx\u001b[0m in \u001b[0;36mpandas._libs.tslib.array_to_datetime\u001b[0;34m()\u001b[0m\n",
      "\u001b[0;32m~/opt/anaconda3/lib/python3.9/site-packages/pandas/_libs/tslib.pyx\u001b[0m in \u001b[0;36mpandas._libs.tslib.array_to_datetime\u001b[0;34m()\u001b[0m\n",
      "\u001b[0;32m~/opt/anaconda3/lib/python3.9/site-packages/pandas/_libs/tslibs/np_datetime.pyx\u001b[0m in \u001b[0;36mpandas._libs.tslibs.np_datetime.check_dts_bounds\u001b[0;34m()\u001b[0m\n",
      "\u001b[0;31mOutOfBoundsDatetime\u001b[0m: Out of bounds nanosecond timestamp: 219-05-29 00:00:00"
     ]
    }
   ],
   "source": [
    "#Trying to do this with the help of Stackoverflow\n",
    "\n",
    "# df = pd.read_csv(\"californiaFiresDataset.csv\")\n",
    "\n",
    "# df['ALARM_DATE'] = pd.to_datetime(df['ALARM_DATE'])\n",
    "# df['CONT_DATE'] = pd.to_datetime(df['CONT_DATE'])\n",
    "\n",
    "# df['CONT_DATE'] - df['ALARM_DATE']\n",
    "\n",
    "# fireDataWithDates['ALARM_DATE'] = pd.to_datetime(fireDataWithDates['ALARM_DATE'])\n",
    "# fireDataWithDates['CONT_DATE'] = pd.to_datetime(fireDataWithDates['CONT_DATE'])\n",
    "\n",
    "#fireDataWithDates['NumberOfDays'] = fireDataWithDates['CONT_DATE'] - fireDataWithDates['ALARM_DATE']\n",
    "\n",
    "#fireDataWithDates[['ALARM_DATE', 'CONT_DATE']] = fireDataWithDates[['ALARM_DATE', 'CONT_DATE']].apply(pd.to_datetime)\n",
    "#fireDataWithDates['NumberOfDays'] = fireDataWithDates['CONT_DATE'] - fireDataWithDates['ALARM_DATE']\n",
    "#fireDataWithDates['CONT_DATE'] - fireDataWithDates['ALARM_DATE']\n",
    "\n"
   ]
  },
  {
   "cell_type": "markdown",
   "metadata": {},
   "source": [
    "______________________________________________________________________________________________\n",
    "Question to answer:\n",
    "Which fire departments in California require new and different kinds of training based on the number of fires they receive, how long it takes, on average, to extinguish the fires, and the causes of the fires?"
   ]
  },
  {
   "cell_type": "markdown",
   "metadata": {},
   "source": [
    "Total number of fires per unit:"
   ]
  },
  {
   "cell_type": "code",
   "execution_count": null,
   "metadata": {},
   "outputs": [],
   "source": [
    "fireLocations = pd.DataFrame(fireData.groupby('UNIT_ID').UNIT_ID.count())\n",
    "#print(fireLocations)\n",
    "\n",
    "#Delete the rows with values of less than 50. We need to ensure that there's enough data to go off of\n",
    "fireLocations.drop(fireLocations.index[fireLocations['UNIT_ID']<10],inplace=True)\n",
    "\n",
    "print(fireLocations)"
   ]
  }
 ],
 "metadata": {
  "interpreter": {
   "hash": "5487a9925b7f3c457bb516ab6eb5b508826c800e1088d7c7c43eeb2a6581e7e1"
  },
  "kernelspec": {
   "display_name": "Python 3.9.7 ('base')",
   "language": "python",
   "name": "python3"
  },
  "language_info": {
   "codemirror_mode": {
    "name": "ipython",
    "version": 3
   },
   "file_extension": ".py",
   "mimetype": "text/x-python",
   "name": "python",
   "nbconvert_exporter": "python",
   "pygments_lexer": "ipython3",
   "version": "3.9.7"
  },
  "orig_nbformat": 4
 },
 "nbformat": 4,
 "nbformat_minor": 2
}
