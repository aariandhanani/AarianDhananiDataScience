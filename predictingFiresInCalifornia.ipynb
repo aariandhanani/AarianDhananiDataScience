{
 "cells": [
  {
   "cell_type": "markdown",
   "metadata": {},
   "source": [
    "Aarian Dhanani\n",
    "Data Science\n",
    "Presentation: https://docs.google.com/presentation/d/1Nv7xh_xfklQ3OWZ3K8Mo4n6d5VXwIlDAozIC_3Ykbv8/edit?usp=sharing"
   ]
  },
  {
   "cell_type": "markdown",
   "metadata": {},
   "source": [
    "Aspects to Find:\n",
    "- Mean area of the fires ✅\n",
    "- Median area of the fire ✅\n",
    "- Location of the fire (unit) ✅\n",
    "- Number of days it takes to suppress the fire an average ✅\n",
    "- Causes ✅\n",
    "- Number of fires per year ✅\n",
    "- Mean number of fires per year ✅\n",
    "- Median number of fires per year ✅\n",
    "\n",
    "\n",
    "To Add:\n",
    "- Predictions for time of year"
   ]
  },
  {
   "cell_type": "code",
   "execution_count": null,
   "metadata": {},
   "outputs": [],
   "source": [
    "#Setting up\n",
    "import pandas as pd\n",
    "import os\n",
    "import csv\n",
    "import datetime\n",
    "import matplotlib.pyplot as plt\n",
    "os.system('clear')\n",
    "fireData = pd.read_csv(\"californiaFiresDataset.csv\")\n",
    "print(fireData)"
   ]
  },
  {
   "cell_type": "markdown",
   "metadata": {},
   "source": [
    "Location of the fires (unit)"
   ]
  },
  {
   "cell_type": "code",
   "execution_count": null,
   "metadata": {},
   "outputs": [],
   "source": [
    "print(fireData.groupby('UNIT_ID').UNIT_ID.count())"
   ]
  },
  {
   "cell_type": "markdown",
   "metadata": {},
   "source": [
    "Mean area of the fires"
   ]
  },
  {
   "cell_type": "code",
   "execution_count": null,
   "metadata": {},
   "outputs": [],
   "source": [
    "print(\"The mean area of the fires in California is \" + str(abs(fireData.SHAPE_Area.mean())))"
   ]
  },
  {
   "cell_type": "markdown",
   "metadata": {},
   "source": [
    "Number of fires per year"
   ]
  },
  {
   "cell_type": "code",
   "execution_count": null,
   "metadata": {},
   "outputs": [],
   "source": [
    "#Create a new dataframe for just the data that's relevant\n",
    "firesPerYear = pd.DataFrame(fireData.groupby('YEAR_').UNIT_ID.count())\n",
    "firesPerYear.to_csv(\"fireTesting.csv\") #For testing purposes\n",
    "\n",
    "#Fix the data so that it's in readable form to plot\n",
    "firesPerYear.reset_index(inplace = True, drop = False)\n",
    "\n",
    "#Plot the data\n",
    "firesPerYear.plot.scatter(x = 'YEAR_', y = 'UNIT_ID')\n",
    "plt.show()"
   ]
  },
  {
   "cell_type": "markdown",
   "metadata": {},
   "source": [
    "Average Number of Fires Per Year"
   ]
  },
  {
   "cell_type": "code",
   "execution_count": null,
   "metadata": {},
   "outputs": [],
   "source": [
    "print(abs(firesPerYear.UNIT_ID.mean()))"
   ]
  },
  {
   "cell_type": "markdown",
   "metadata": {},
   "source": [
    "Median Number of Fires Per Year"
   ]
  },
  {
   "cell_type": "code",
   "execution_count": null,
   "metadata": {},
   "outputs": [],
   "source": [
    "print(abs(firesPerYear.UNIT_ID.median()))"
   ]
  },
  {
   "cell_type": "markdown",
   "metadata": {},
   "source": [
    "Median Area of the fires"
   ]
  },
  {
   "cell_type": "code",
   "execution_count": null,
   "metadata": {},
   "outputs": [],
   "source": [
    "print(\"The median area of the fires in California is \" + str(abs(fireData.SHAPE_Area.median())))"
   ]
  },
  {
   "cell_type": "markdown",
   "metadata": {},
   "source": [
    "Causes of the fires"
   ]
  },
  {
   "cell_type": "code",
   "execution_count": null,
   "metadata": {},
   "outputs": [],
   "source": [
    "#Create a new dataframe with the relevant data\n",
    "fireCauses = pd.DataFrame(fireData.groupby('CAUSE').UNIT_ID.count())\n",
    "\n",
    "#Make the data readable and ready to plot\n",
    "fireCauses.reset_index(inplace = True, drop = False)\n",
    "print(fireCauses)\n",
    "\n",
    "#Plot the data\n",
    "fireCauses.plot.bar(x = 'CAUSE', y = 'UNIT_ID')\n",
    "\n",
    "plt.show()"
   ]
  },
  {
   "cell_type": "markdown",
   "metadata": {},
   "source": [
    "Subtract the Dates"
   ]
  },
  {
   "cell_type": "code",
   "execution_count": null,
   "metadata": {},
   "outputs": [],
   "source": [
    "fireDataWithDates = pd.read_csv(\"californiaFiresDataset.csv\")\n",
    "\n",
    "# del fireDataWithDates['FIRE_NAME']\n",
    "# del fireDataWithDates['INC_NUM']\n",
    "# del fireDataWithDates['COMMENTS']\n",
    "# del fireDataWithDates['REPORT_AC']\n",
    "# del fireDataWithDates['C_METHOD']\n",
    "# del fireDataWithDates['OBJECTIVE']\n",
    "# del fireDataWithDates['FIRE_NUM']\n",
    "\n",
    "#Clean the data and remove rows with empty values\n",
    "fireDataWithDates = fireDataWithDates.dropna()\n",
    "\n",
    "#Convert to datetime\n",
    "fireDataWithDates['ALARM_DATE'] = pd.to_datetime(fireDataWithDates['ALARM_DATE'])\n",
    "fireDataWithDates['CONT_DATE'] = pd.to_datetime(fireDataWithDates['CONT_DATE'])\n",
    "\n",
    "#Find the number of days\n",
    "fireDataWithDates['NumberOfDays'] = fireDataWithDates['CONT_DATE'] - fireDataWithDates['ALARM_DATE']\n",
    "print(\"The average number of days for an active fire is \" + str(abs(fireDataWithDates.NumberOfDays.mean())))\n",
    "print(fireDataWithDates)\n",
    "fireDataWithDates.to_csv(\"fireTesting.csv\") #For testing purposes\n"
   ]
  },
  {
   "cell_type": "markdown",
   "metadata": {},
   "source": [
    "______________________________________________________________________________________________\n",
    "Question to answer:\n",
    "Since 2000, what have the largest issues been in terms of fire causes? Where are most of these fires starting? How can we individually analyze a certain area?"
   ]
  },
  {
   "cell_type": "markdown",
   "metadata": {},
   "source": [
    "Clean up the dataset:"
   ]
  },
  {
   "cell_type": "code",
   "execution_count": null,
   "metadata": {},
   "outputs": [],
   "source": [
    "dataAnalysis = pd.read_csv(\"californiaFiresDataset.csv\")\n",
    "del dataAnalysis['FIRE_NAME']\n",
    "del dataAnalysis['INC_NUM']\n",
    "del dataAnalysis['COMMENTS']\n",
    "del dataAnalysis['REPORT_AC']\n",
    "del dataAnalysis['C_METHOD']\n",
    "del dataAnalysis['OBJECTIVE']\n",
    "del dataAnalysis['FIRE_NUM']\n",
    "del dataAnalysis['YEAR_']\n",
    "del dataAnalysis['OBJECTID']\n",
    "del dataAnalysis['STATE']\n",
    "del dataAnalysis['GIS_ACRES']\n",
    "del dataAnalysis['SHAPE_Length']\n",
    "del dataAnalysis['AGENCY']"
   ]
  },
  {
   "cell_type": "markdown",
   "metadata": {},
   "source": [
    "Remove any data from before 2000"
   ]
  },
  {
   "cell_type": "code",
   "execution_count": null,
   "metadata": {},
   "outputs": [],
   "source": [
    "#Clean the data and remove rows with empty values\n",
    "dataAnalysis = dataAnalysis.dropna()\n",
    "\n",
    "#Testing\n",
    "# dataAnalysis.to_csv(\"fireTesting.csv\")\n",
    "# dataTesting = pd.read_csv(\"fireTesting.csv\")\n",
    "\n",
    "#Removing values from before the year 2000\n",
    "dataAnalysis = dataAnalysis[~(dataAnalysis['ALARM_DATE'] < '2000-01-01 00:00:00+00:00')]\n",
    "\n",
    "#Print\n",
    "print(dataAnalysis)"
   ]
  },
  {
   "cell_type": "markdown",
   "metadata": {},
   "source": [
    "Fire Causes from 2000 and beyond:"
   ]
  },
  {
   "cell_type": "code",
   "execution_count": null,
   "metadata": {},
   "outputs": [],
   "source": [
    "#Create a new dataframe with the relevant data\n",
    "fireCauses = pd.DataFrame(dataAnalysis.groupby('CAUSE').UNIT_ID.count())\n",
    "\n",
    "#Make the data readable and ready to plot\n",
    "fireCauses.reset_index(inplace = True, drop = False)\n",
    "\n",
    "#Print the data\n",
    "print(fireCauses)\n",
    "\n",
    "#Plot the data and show the graph\n",
    "fireCauses.plot.bar(x = 'CAUSE', y = 'UNIT_ID')\n",
    "plt.show()"
   ]
  },
  {
   "cell_type": "markdown",
   "metadata": {},
   "source": [
    "Fire frequency Per Unit"
   ]
  },
  {
   "cell_type": "code",
   "execution_count": null,
   "metadata": {},
   "outputs": [],
   "source": [
    "#Count values\n",
    "unitData = pd.DataFrame(dataAnalysis.groupby('UNIT_ID').CAUSE.count())\n",
    "\n",
    "#Testing\n",
    "#unitData.to_csv(\"fireTesting.csv\") #For testing purposes\n",
    "\n",
    "#Sort rows\n",
    "unitData = unitData.sort_values(['CAUSE','UNIT_ID'],ascending=False)\n",
    "\n",
    "#Plot and print data\n",
    "unitData.plot.pie(x = 'UNIT_ID', y = 'CAUSE')\n",
    "print(unitData)"
   ]
  },
  {
   "cell_type": "markdown",
   "metadata": {},
   "source": [
    "Fire Frequency Per Unit Revised"
   ]
  },
  {
   "cell_type": "code",
   "execution_count": null,
   "metadata": {},
   "outputs": [],
   "source": [
    "#Remove units with less than 150 fires reported\n",
    "unitData = unitData[~(unitData['CAUSE'] < 150)]\n",
    "unitData = unitData.sort_values(['CAUSE','UNIT_ID'],ascending=False)\n",
    "unitData.plot.pie(x = 'UNIT_ID', y = 'CAUSE')\n",
    "print(unitData)"
   ]
  },
  {
   "cell_type": "markdown",
   "metadata": {},
   "source": [
    "Case Study: LAC"
   ]
  },
  {
   "cell_type": "code",
   "execution_count": null,
   "metadata": {},
   "outputs": [],
   "source": [
    "#Create the new dataframe\n",
    "LACData = dataAnalysis[dataAnalysis.UNIT_ID == 'LAC']\n",
    "# #Delete the UNIT_ID column (it should be the same for all of them)\n",
    "# del LACData['UNIT_ID']\n",
    "\n",
    "#Convert to datetime and subtract to find the number of days\n",
    "LACData['ALARM_DATE'] = pd.to_datetime(LACData['ALARM_DATE'])\n",
    "LACData['CONT_DATE'] = pd.to_datetime(LACData['CONT_DATE'])\n",
    "LACData['NumberOfDays'] = LACData['CONT_DATE'] - LACData['ALARM_DATE']\n",
    "\n",
    "#Clean up strange values\n",
    "LACData = LACData[~(LACData['NumberOfDays'] < '0')]\n",
    "\n",
    "#Find the average number of days\n",
    "print(\"The average number of days each fire is active in LAC since 2000 is \" + str(abs(LACData.NumberOfDays.mean())))\n",
    "\n",
    "#Testing\n",
    "LACData.to_csv(\"fireTesting.csv\") #For testing purposes\n",
    "print(LACData)\n",
    "\n",
    "#Find the average area\n",
    "print(\"The average area of the fires in LAC since 2000 is \" + str(abs(LACData.SHAPE_Area.mean())))\n",
    "\n",
    "#Plot the most common causes\n",
    "LACDataCauses = pd.DataFrame(LACData.groupby('CAUSE').UNIT_ID.count())\n",
    "LACDataCauses.reset_index(inplace = True, drop = False)\n",
    "LACDataCauses.plot.bar(x = 'CAUSE', y = 'UNIT_ID')\n",
    "\n",
    "plt.show()"
   ]
  }
 ],
 "metadata": {
  "interpreter": {
   "hash": "5487a9925b7f3c457bb516ab6eb5b508826c800e1088d7c7c43eeb2a6581e7e1"
  },
  "kernelspec": {
   "display_name": "Python 3.9.7 ('base')",
   "language": "python",
   "name": "python3"
  },
  "language_info": {
   "codemirror_mode": {
    "name": "ipython",
    "version": 3
   },
   "file_extension": ".py",
   "mimetype": "text/x-python",
   "name": "python",
   "nbconvert_exporter": "python",
   "pygments_lexer": "ipython3",
   "version": "3.9.7"
  },
  "orig_nbformat": 4
 },
 "nbformat": 4,
 "nbformat_minor": 2
}
