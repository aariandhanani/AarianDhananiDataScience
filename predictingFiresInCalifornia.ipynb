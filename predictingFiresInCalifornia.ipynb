{
 "cells": [
  {
   "cell_type": "markdown",
   "metadata": {},
   "source": [
    "Aspects to Find:\n",
    "- Mean area of the fires ✅\n",
    "- Median area of the fire ✅\n",
    "- Location of the fire (unit) ✅\n",
    "- Number of days it takes to supress the fire an average\n",
    "- Causes ✅\n",
    "- Number of fires per year ✅\n",
    "- Mean number of fires per year ✅\n",
    "- Median number of fires per year ✅"
   ]
  },
  {
   "cell_type": "code",
   "execution_count": null,
   "metadata": {},
   "outputs": [],
   "source": [
    "#Setting up\n",
    "import pandas as pd\n",
    "import os\n",
    "import csv\n",
    "import datetime\n",
    "import matplotlib.pyplot as plt\n",
    "os.system('clear')\n",
    "fireData = pd.read_csv(\"californiaFiresDataset.csv\")\n",
    "print(fireData)"
   ]
  },
  {
   "cell_type": "markdown",
   "metadata": {},
   "source": [
    "Location of the fires (unit)"
   ]
  },
  {
   "cell_type": "code",
   "execution_count": null,
   "metadata": {},
   "outputs": [],
   "source": [
    "print(fireData.groupby('UNIT_ID').UNIT_ID.count())"
   ]
  },
  {
   "cell_type": "markdown",
   "metadata": {},
   "source": [
    "Mean area of the fires"
   ]
  },
  {
   "cell_type": "code",
   "execution_count": null,
   "metadata": {},
   "outputs": [],
   "source": [
    "print(\"The mean area of the fires in California is \" + str(abs(fireData.SHAPE_Area.mean())))"
   ]
  },
  {
   "cell_type": "markdown",
   "metadata": {},
   "source": [
    "Number of fires per year"
   ]
  },
  {
   "cell_type": "code",
   "execution_count": null,
   "metadata": {},
   "outputs": [],
   "source": [
    "#Create a new dataframe for just the data that's relevant\n",
    "firesPerYear = pd.DataFrame(fireData.groupby('YEAR_').UNIT_ID.count())\n",
    "firesPerYear.to_csv(\"fireTesting.csv\") #For testing purposes\n",
    "#Fix the data so that it's in readable form to plot\n",
    "firesPerYear.reset_index(inplace = True, drop = False)\n",
    "#print(firesPerYear)\n",
    "#Plot the data\n",
    "firesPerYear.plot.scatter(x = 'YEAR_', y = 'UNIT_ID')\n",
    "plt.show()"
   ]
  },
  {
   "cell_type": "markdown",
   "metadata": {},
   "source": [
    "Average Number of Fires Per Year"
   ]
  },
  {
   "cell_type": "code",
   "execution_count": null,
   "metadata": {},
   "outputs": [],
   "source": [
    "print(abs(firesPerYear.UNIT_ID.mean()))"
   ]
  },
  {
   "cell_type": "markdown",
   "metadata": {},
   "source": [
    "Median Number of Fires Per Year"
   ]
  },
  {
   "cell_type": "code",
   "execution_count": null,
   "metadata": {},
   "outputs": [],
   "source": [
    "print(abs(firesPerYear.UNIT_ID.median()))"
   ]
  },
  {
   "cell_type": "markdown",
   "metadata": {},
   "source": [
    "Median Area of the fires"
   ]
  },
  {
   "cell_type": "code",
   "execution_count": null,
   "metadata": {},
   "outputs": [],
   "source": [
    "print(\"The median area of the fires in California is \" + str(abs(fireData.SHAPE_Area.median())))"
   ]
  },
  {
   "cell_type": "markdown",
   "metadata": {},
   "source": [
    "Causes of the fires"
   ]
  },
  {
   "cell_type": "code",
   "execution_count": null,
   "metadata": {},
   "outputs": [],
   "source": [
    "#Create a new dataframe with the relevant data\n",
    "fireCauses = pd.DataFrame(fireData.groupby('CAUSE').UNIT_ID.count())\n",
    "#print(fireCauses)\n",
    "#Make the data readable and ready to plot\n",
    "fireCauses.reset_index(inplace = True, drop = False)\n",
    "print(fireCauses)\n",
    "#Plot the data\n",
    "fireCauses.plot.bar(x = 'CAUSE', y = 'UNIT_ID')\n",
    "\n",
    "plt.show()"
   ]
  },
  {
   "cell_type": "markdown",
   "metadata": {},
   "source": [
    "Subtract the Dates"
   ]
  },
  {
   "cell_type": "code",
   "execution_count": null,
   "metadata": {},
   "outputs": [],
   "source": [
    "#Trying to do this with the help of Stackoverflow\n",
    "\n",
    "# df = pd.read_csv(\"californiaFiresDataset.csv\")\n",
    "\n",
    "# df['ALARM_DATE'] = pd.to_datetime(df['ALARM_DATE'])\n",
    "# df['CONT_DATE'] = pd.to_datetime(df['CONT_DATE'])\n",
    "\n",
    "# df['CONT_DATE'] - df['ALARM_DATE']\n",
    "\n",
    "# fireDataWithDates['ALARM_DATE'] = pd.to_datetime(fireDataWithDates['ALARM_DATE'])\n",
    "# fireDataWithDates['CONT_DATE'] = pd.to_datetime(fireDataWithDates['CONT_DATE'])\n",
    "\n",
    "#fireDataWithDates['NumberOfDays'] = fireDataWithDates['CONT_DATE'] - fireDataWithDates['ALARM_DATE']\n",
    "\n",
    "#fireDataWithDates[['ALARM_DATE', 'CONT_DATE']] = fireDataWithDates[['ALARM_DATE', 'CONT_DATE']].apply(pd.to_datetime)\n",
    "#fireDataWithDates['NumberOfDays'] = fireDataWithDates['CONT_DATE'] - fireDataWithDates['ALARM_DATE']\n",
    "#fireDataWithDates['CONT_DATE'] - fireDataWithDates['ALARM_DATE']\n",
    "\n"
   ]
  },
  {
   "cell_type": "markdown",
   "metadata": {},
   "source": [
    "______________________________________________________________________________________________\n",
    "Question to answer:\n",
    "Which fire departments in California require new and different kinds of training based on the number of fires they receive, how long it takes, on average, to extinguish the fires, and the causes of the fires?"
   ]
  },
  {
   "cell_type": "markdown",
   "metadata": {},
   "source": [
    "Total number of fires per unit:"
   ]
  },
  {
   "cell_type": "code",
   "execution_count": null,
   "metadata": {},
   "outputs": [],
   "source": [
    "fireLocations = pd.DataFrame(fireData.groupby('UNIT_ID').UNIT_ID.count())\n",
    "#print(fireLocations)\n",
    "\n",
    "#Delete the rows with values of less than 50. We need to ensure that there's enough data to go off of\n",
    "fireLocations.drop(fireLocations.index[fireLocations['UNIT_ID']<10],inplace=True)\n",
    "\n",
    "print(fireLocations)"
   ]
  },
  {
   "cell_type": "markdown",
   "metadata": {},
   "source": [
    "Setting up:"
   ]
  },
  {
   "cell_type": "code",
   "execution_count": null,
   "metadata": {},
   "outputs": [],
   "source": [
    "fireData.drop(\"\")"
   ]
  }
 ],
 "metadata": {
  "interpreter": {
   "hash": "5487a9925b7f3c457bb516ab6eb5b508826c800e1088d7c7c43eeb2a6581e7e1"
  },
  "kernelspec": {
   "display_name": "Python 3.9.7 ('base')",
   "language": "python",
   "name": "python3"
  },
  "language_info": {
   "codemirror_mode": {
    "name": "ipython",
    "version": 3
   },
   "file_extension": ".py",
   "mimetype": "text/x-python",
   "name": "python",
   "nbconvert_exporter": "python",
   "pygments_lexer": "ipython3",
   "version": "3.9.7"
  },
  "orig_nbformat": 4
 },
 "nbformat": 4,
 "nbformat_minor": 2
}
