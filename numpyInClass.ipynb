{
 "cells": [
  {
   "cell_type": "code",
   "execution_count": null,
   "metadata": {},
   "outputs": [],
   "source": [
    "import numpy as np\n",
    "import os\n",
    "import matplotlib.pyplot as plt\n",
    "\n",
    "array = np.array([1,2,3])\n",
    "array1 = np.array([[3,6],[4,7]])\n",
    "array2 = np.array([[1,3],[2,4]], dtype = 'float16')\n",
    "print(array1)\n",
    "print(\"array type\", type(array1))\n",
    "print(\"type of elements \", array1.dtype)\n",
    "#dimension\n",
    "print(\"dimension = \", array1.ndim)\n",
    "#shape\n",
    "print(\"shape \", array2.shape)\n",
    "#zeros\n",
    "zeroArray = np.zeros((3,4), dtype = 'uint8')\n",
    "print(zeroArray)\n",
    "#ones\n",
    "oneArray = np.ones((3,4), dtype = 'uint8')\n",
    "print(oneArray)\n",
    "#other\n",
    "constArray = np.full((4,4),8, dtype = 'float16')\n",
    "print(constArray)\n",
    "randomArray = np.random.randint(50,100,size = (4,4))\n",
    "print(randomArray)"
   ]
  },
  {
   "cell_type": "markdown",
   "metadata": {},
   "source": [
    "Operations with arrays and data types"
   ]
  },
  {
   "cell_type": "code",
   "execution_count": null,
   "metadata": {},
   "outputs": [],
   "source": [
    "array3 = array1 + array2\n",
    "print(array3)\n",
    "sum = np.add(array2,array3)\n",
    "print(sum)\n",
    "\n",
    "array3 = array1 * 2\n",
    "print(array3)\n",
    "array3 = array1 ** 2\n",
    "print(array3)\n",
    "array3 = array3 ** .5\n",
    "print(array3)\n",
    "array3 = array1 ** 2\n",
    "print(array3)\n",
    "sqrArray3 = np.sqrt(array3)\n",
    "print(sqrArray3.dtype)\n",
    "#Transpose\n",
    "array4 = np.array([[2,3,4],[5,6,7],[8,9,10]])\n",
    "trans_array = array4.T\n",
    "print(trans_array)"
   ]
  },
  {
   "cell_type": "markdown",
   "metadata": {},
   "source": [
    "Indexing and slicing"
   ]
  },
  {
   "cell_type": "code",
   "execution_count": null,
   "metadata": {},
   "outputs": [],
   "source": [
    "arrayLine = np.linspace(0,10,21)\n",
    "print(arrayLine)\n",
    "arrayRange = np.arange(10,200,5)\n",
    "print(arrayRange)\n",
    "print(arrayRange[10:])\n",
    "print(arrayRange[arrayRange % 40 == 0] ** 2)\n",
    "arrayCrazy = arrayRange[arrayRange % 40 == 0] ** 2\n",
    "#ad all elements\n",
    "sumLine = arrayLine.sum(-1)\n",
    "print(sumLine)\n",
    "bmi = array4[ :,2].astype(float)\n",
    "age = array4[ :,0].astype(int)\n",
    "print(bmi)\n",
    "plt.scatter(age,bmi)\n",
    "plt.show()"
   ]
  }
 ],
 "metadata": {
  "interpreter": {
   "hash": "5487a9925b7f3c457bb516ab6eb5b508826c800e1088d7c7c43eeb2a6581e7e1"
  },
  "kernelspec": {
   "display_name": "Python 3.9.7 64-bit ('base': conda)",
   "language": "python",
   "name": "python3"
  },
  "language_info": {
   "codemirror_mode": {
    "name": "ipython",
    "version": 3
   },
   "file_extension": ".py",
   "mimetype": "text/x-python",
   "name": "python",
   "nbconvert_exporter": "python",
   "pygments_lexer": "ipython3",
   "version": "3.9.7"
  },
  "orig_nbformat": 4
 },
 "nbformat": 4,
 "nbformat_minor": 2
}
