{
 "cells": [
  {
   "cell_type": "code",
   "execution_count": 78,
   "metadata": {},
   "outputs": [
    {
     "name": "stdout",
     "output_type": "stream",
     "text": [
      "\u001b[H\u001b[2J"
     ]
    }
   ],
   "source": [
    "import numpy as np\n",
    "import csv, matplotlib.pyplot as plt\n",
    "import os\n",
    "os.system('clear')\n",
    "\n",
    "import csv\n",
    "file = open('amazonOrderList.csv')\n",
    "\n",
    "amazonList = csv.reader(file)\n",
    "listData = []\n",
    "header = next(amazonList)\n",
    "for row in amazonList:\n",
    "    listData.append(row)\n",
    "\n",
    "amazonInfo = np.array(listData)\n",
    "\n",
    "#print(listData)\n",
    "\n",
    "# priceColumn = dataset[:, 12].astype(int)\n",
    "# print(priceSum)"
   ]
  },
  {
   "cell_type": "markdown",
   "metadata": {},
   "source": [
    "Total Amount Spent:"
   ]
  },
  {
   "cell_type": "code",
   "execution_count": 79,
   "metadata": {},
   "outputs": [
    {
     "name": "stdout",
     "output_type": "stream",
     "text": [
      "Total Spent: 27766.9\n"
     ]
    }
   ],
   "source": [
    "amazonInfo = np.char.strip(amazonInfo, chars = '$')\n",
    "itemPrices = amazonInfo[ :,12].astype(float)\n",
    "total = np.sum(itemPrices)\n",
    "print(\"Total Spent: \" + str(total))"
   ]
  },
  {
   "cell_type": "markdown",
   "metadata": {},
   "source": [
    "Most and least expensive orders and average and median order totals\n",
    "\n",
    "Not sure how to do median"
   ]
  },
  {
   "cell_type": "code",
   "execution_count": 80,
   "metadata": {},
   "outputs": [
    {
     "name": "stdout",
     "output_type": "stream",
     "text": [
      "Most expensive item price: $1985.0\n",
      "Most expensive item: Professional Bike Assembly and Basic Fit\n",
      "Least expensive item price: $1.22\n",
      "Least expensive item: Allstate 3-Year PC Peripheral Protection Plan ($0-49.99)\n",
      "Average Price: $39.32988668555241\n"
     ]
    }
   ],
   "source": [
    "mostExpensive = np.amax(itemPrices[np.nonzero(itemPrices)])\n",
    "print(\"Most expensive item price: $\" + str(mostExpensive))\n",
    "\n",
    "mostExpensiveItem = amazonInfo[np.argmax(itemPrices[np.nonzero(itemPrices)]) + 1, 2]\n",
    "print(\"Most expensive item: \" + str(mostExpensiveItem))\n",
    "\n",
    "leastExpensive = np.amin(itemPrices[np.nonzero(itemPrices)])\n",
    "print(\"Least expensive item price: $\" + str(leastExpensive))\n",
    "\n",
    "leastExpensiveItem = amazonInfo[np.argmin(itemPrices[np.nonzero(itemPrices)]) + 1, 2]\n",
    "print(\"Least expensive item: \" + str(leastExpensiveItem))\n",
    "\n",
    "average = np.mean(itemPrices)\n",
    "print(\"Average Price: $\" + str(average))"
   ]
  },
  {
   "cell_type": "markdown",
   "metadata": {},
   "source": [
    "Taxes:"
   ]
  },
  {
   "cell_type": "code",
   "execution_count": 81,
   "metadata": {},
   "outputs": [
    {
     "name": "stdout",
     "output_type": "stream",
     "text": [
      "Total tax: 2042.48\n"
     ]
    }
   ],
   "source": [
    "itemPrices = amazonInfo[ :,28].astype(float)\n",
    "totalTax = np.sum(itemPrices)\n",
    "print(\"Total tax: \" + str(totalTax))"
   ]
  },
  {
   "cell_type": "markdown",
   "metadata": {},
   "source": [
    "Graph"
   ]
  },
  {
   "cell_type": "code",
   "execution_count": 82,
   "metadata": {},
   "outputs": [
    {
     "data": {
      "text/plain": [
       "<BarContainer object of 706 artists>"
      ]
     },
     "execution_count": 82,
     "metadata": {},
     "output_type": "execute_result"
    },
    {
     "data": {
      "image/png": "[encoded data removed]",
      "text/plain": [
       "<Figure size 432x288 with 1 Axes>"
      ]
     },
     "metadata": {
      "needs_background": "light"
     },
     "output_type": "display_data"
    }
   ],
   "source": [
    "spending = amazonInfo[ :,12].astype(float)\n",
    "date = amazonInfo[ :,0].astype(str)\n",
    "plt.bar(date,spending)"
   ]
  }
 ],
 "metadata": {
  "interpreter": {
   "hash": "5487a9925b7f3c457bb516ab6eb5b508826c800e1088d7c7c43eeb2a6581e7e1"
  },
  "kernelspec": {
   "display_name": "Python 3.9.7 ('base')",
   "language": "python",
   "name": "python3"
  },
  "language_info": {
   "codemirror_mode": {
    "name": "ipython",
    "version": 3
   },
   "file_extension": ".py",
   "mimetype": "text/x-python",
   "name": "python",
   "nbconvert_exporter": "python",
   "pygments_lexer": "ipython3",
   "version": "3.9.7"
  },
  "orig_nbformat": 4
 },
 "nbformat": 4,
 "nbformat_minor": 2
}
