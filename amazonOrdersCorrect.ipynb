{
 "cells": [
  {
   "cell_type": "code",
   "execution_count": 126,
   "metadata": {},
   "outputs": [
    {
     "name": "stdout",
     "output_type": "stream",
     "text": [
      "\u001b[H\u001b[2J"
     ]
    }
   ],
   "source": [
    "#Aarian Dhanani\n",
    "#Due February 17th, 2022\n",
    "#Analyzing Amazon Data\n",
    "import numpy as np\n",
    "import csv, matplotlib.pyplot as plt\n",
    "import os\n",
    "os.system('clear')\n",
    "\n",
    "#Opening the file\n",
    "file = open('amazonOrderList.csv')\n",
    "amazonList = csv.reader(file)\n",
    "\n",
    "#Creating the intital list\n",
    "listData = []\n",
    "header = next(amazonList)\n",
    "for row in amazonList:\n",
    "    listData.append(row)\n",
    "\n",
    "#Creating the Numpy Array\n",
    "amazonInfo = np.array(listData)"
   ]
  },
  {
   "cell_type": "markdown",
   "metadata": {},
   "source": [
    "Total Amount Spent:"
   ]
  },
  {
   "cell_type": "code",
   "execution_count": 127,
   "metadata": {},
   "outputs": [
    {
     "name": "stdout",
     "output_type": "stream",
     "text": [
      "Total Amount Spent: $27766.9\n"
     ]
    }
   ],
   "source": [
    "#Finding the total amount spend\n",
    "amazonInfo = np.char.strip(amazonInfo, chars = '$')\n",
    "itemPrices = amazonInfo[ :,12].astype(float)\n",
    "total = np.sum(itemPrices)\n",
    "print(\"Total Amount Spent: $\" + str(total))"
   ]
  },
  {
   "cell_type": "markdown",
   "metadata": {},
   "source": [
    "Most and least expensive orders and average and median order totals"
   ]
  },
  {
   "cell_type": "code",
   "execution_count": 128,
   "metadata": {},
   "outputs": [
    {
     "name": "stdout",
     "output_type": "stream",
     "text": [
      "Most expensive item price: $1985.0\n",
      "Most expensive item: Professional Bike Assembly and Basic Fit\n",
      "Least expensive item price: $1.22\n",
      "Least expensive item: Allstate 3-Year PC Peripheral Protection Plan ($0-49.99)\n",
      "Average Price: $39.32988668555241\n",
      "Median Price: $18.97\n"
     ]
    }
   ],
   "source": [
    "#Most expensive item data\n",
    "mostExpensive = np.amax(itemPrices[np.nonzero(itemPrices)])\n",
    "print(\"Most expensive item price: $\" + str(mostExpensive))\n",
    "\n",
    "mostExpensiveItem = amazonInfo[np.argmax(itemPrices[np.nonzero(itemPrices)]) + 1, 2]\n",
    "print(\"Most expensive item: \" + str(mostExpensiveItem))\n",
    "\n",
    "#Least expensive item data\n",
    "leastExpensive = np.amin(itemPrices[np.nonzero(itemPrices)])\n",
    "print(\"Least expensive item price: $\" + str(leastExpensive))\n",
    "\n",
    "leastExpensiveItem = amazonInfo[np.argmin(itemPrices[np.nonzero(itemPrices)]) + 1, 2]\n",
    "print(\"Least expensive item: \" + str(leastExpensiveItem))\n",
    "\n",
    "#Average price of the items\n",
    "average = np.mean(itemPrices)\n",
    "print(\"Average Price: $\" + str(average))\n",
    "\n",
    "#Median price of the items\n",
    "medianValue = np.median(itemPrices)\n",
    "print(\"Median Price: $\" + str(medianValue))"
   ]
  },
  {
   "cell_type": "markdown",
   "metadata": {},
   "source": [
    "Taxes:"
   ]
  },
  {
   "cell_type": "code",
   "execution_count": 129,
   "metadata": {},
   "outputs": [
    {
     "name": "stdout",
     "output_type": "stream",
     "text": [
      "Total tax: $2042.48\n",
      "Effective sales tax rate: 7.355808534622158%\n"
     ]
    }
   ],
   "source": [
    "#Finding the total taxes using the tax column\n",
    "itemPrices = amazonInfo[ :,28].astype(float)\n",
    "totalTax = np.sum(itemPrices)\n",
    "print(\"Total tax: $\" + str(totalTax))\n",
    "\n",
    "#Finding effective sales tax rate on Amazon\n",
    "effectiveSalesTaxRate = (totalTax/total) * 100\n",
    "print(\"Effective sales tax rate: \" + str(effectiveSalesTaxRate) + \"%\")"
   ]
  },
  {
   "cell_type": "markdown",
   "metadata": {},
   "source": [
    "Graph"
   ]
  },
  {
   "cell_type": "code",
   "execution_count": 130,
   "metadata": {},
   "outputs": [
    {
     "data": {
      "text/plain": [
       "<BarContainer object of 6 artists>"
      ]
     },
     "execution_count": 130,
     "metadata": {},
     "output_type": "execute_result"
    },
    {
     "data": {
      "image/png": "[encoded data removed]",
      "text/plain": [
       "<Figure size 432x288 with 1 Axes>"
      ]
     },
     "metadata": {
      "needs_background": "light"
     },
     "output_type": "display_data"
    }
   ],
   "source": [
    "#This is for creating the graph\n",
    "\n",
    "#The counter will help me get the index of the price\n",
    "counter = 0\n",
    "\n",
    "#Setting up the algorithm\n",
    "barAxes = [\"2017\", \"2018\", \"2019\", \"2020\", \"2021\", \"2022\"]\n",
    "barValues = [0.0,0.0,0.0,0.0,0.0,0.0]\n",
    "spending = amazonInfo[ :,12].astype(float)\n",
    "date = amazonInfo[ :,0].astype(str)\n",
    "\n",
    "# For testing purposes\n",
    "# testValue = \"Hello\"\n",
    "# if(testValue.endswith(\"o\") == 1):\n",
    "#     print(\"Working\")\n",
    "\n",
    "#For loop with possible outcomes in an if statement\n",
    "for dateValue in date:\n",
    "    if(dateValue.endswith(\"17\") == 1):\n",
    "        barValues[0] = float(barValues[0]) + float(spending[counter])\n",
    "    if(dateValue.endswith(\"18\") == 1):\n",
    "        barValues[1] = float(barValues[1]) + float(spending[counter])\n",
    "    if(dateValue.endswith(\"19\") == 1):\n",
    "        barValues[2] = float(barValues[2]) + float(spending[counter])\n",
    "    if(dateValue.endswith(\"20\") == 1):\n",
    "        barValues[3] = float(barValues[3]) + float(spending[counter])\n",
    "    if(dateValue.endswith(\"21\") == 1):\n",
    "        barValues[4] = float(barValues[4]) + float(spending[counter])\n",
    "    if(dateValue.endswith(\"22\") == 1):\n",
    "        barValues[5] = float(barValues[5]) + float(spending[counter])\n",
    "    counter = counter + 1\n",
    "\n",
    "#Plot the graph\n",
    "plt.bar(barAxes,barValues, color = \"green\", width = 0.5)"
   ]
  }
 ],
 "metadata": {
  "interpreter": {
   "hash": "5487a9925b7f3c457bb516ab6eb5b508826c800e1088d7c7c43eeb2a6581e7e1"
  },
  "kernelspec": {
   "display_name": "Python 3.9.7 ('base')",
   "language": "python",
   "name": "python3"
  },
  "language_info": {
   "codemirror_mode": {
    "name": "ipython",
    "version": 3
   },
   "file_extension": ".py",
   "mimetype": "text/x-python",
   "name": "python",
   "nbconvert_exporter": "python",
   "pygments_lexer": "ipython3",
   "version": "3.9.7"
  },
  "orig_nbformat": 4
 },
 "nbformat": 4,
 "nbformat_minor": 2
}
